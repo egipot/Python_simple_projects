{
  "nbformat": 4,
  "nbformat_minor": 0,
  "metadata": {
    "colab": {
      "provenance": [],
      "authorship_tag": "ABX9TyOwowZZ7UnWjIpnJ37oJBky",
      "include_colab_link": true
    },
    "kernelspec": {
      "name": "python3",
      "display_name": "Python 3"
    },
    "language_info": {
      "name": "python"
    }
  },
  "cells": [
    {
      "cell_type": "markdown",
      "metadata": {
        "id": "view-in-github",
        "colab_type": "text"
      },
      "source": [
        "<a href=\"https://colab.research.google.com/github/egipot/Python_simple_projects/blob/main/Number_Lottery.ipynb\" target=\"_parent\"><img src=\"https://colab.research.google.com/assets/colab-badge.svg\" alt=\"Open In Colab\"/></a>"
      ]
    },
    {
      "cell_type": "code",
      "execution_count": null,
      "metadata": {
        "id": "QP15_UFTUkJ0"
      },
      "outputs": [],
      "source": [
        "#This is a program that simulates a lottery game where the player bets five numbers from 1-99."
      ]
    },
    {
      "cell_type": "code",
      "source": [
        "#import the necessary module\n",
        "\n",
        "import random"
      ],
      "metadata": {
        "id": "ji-20K24Vu3t"
      },
      "execution_count": 1,
      "outputs": []
    },
    {
      "cell_type": "code",
      "source": [
        "#define the empty list where the bet numbers will be stored\n",
        "\n",
        "player_entry = []"
      ],
      "metadata": {
        "id": "YM1Cbd0ZV1v9"
      },
      "execution_count": 3,
      "outputs": []
    },
    {
      "cell_type": "code",
      "source": [
        "#loop accept the player's entry of 5 numbers:\n",
        "counter=1\n",
        "\n",
        "while counter <= 5:\n",
        "  num = int(input('Enter your entry (1-99): '))\n",
        "  player_entry.append(num)\n",
        "  counter += 1\n"
      ],
      "metadata": {
        "colab": {
          "base_uri": "https://localhost:8080/"
        },
        "id": "_JrxS_paWER2",
        "outputId": "5db006a8-c2dd-4d1f-ceb3-d74a09bfff1e"
      },
      "execution_count": 6,
      "outputs": [
        {
          "name": "stdout",
          "output_type": "stream",
          "text": [
            "Enter your entry (1-99): 50\n",
            "Enter your entry (1-99): 12\n",
            "Enter your entry (1-99): 98\n",
            "Enter your entry (1-99): 42\n",
            "Enter your entry (1-99): 77\n"
          ]
        }
      ]
    },
    {
      "cell_type": "code",
      "source": [
        "#run the lottery, apply a few seconds of delay for suspense\n",
        "\n",
        "import time\n",
        "\n",
        "print('Please wait few seconds while the lottery is running... ')\n",
        "time.sleep(2)\n",
        "\n",
        "print('Generating the lucky numbers...')\n",
        "time.sleep(5)\n",
        "\n",
        "#generate and store the winning numbers\n",
        "lottery_timecounter=1\n",
        "winning_lottery_numbers = []\n",
        "while lottery_timecounter <= 5:\n",
        "  x = random.randint(1,99)\n",
        "  winning_lottery_numbers.append(x)\n",
        "  lottery_timecounter +=1\n",
        "  #check if the generate number x is present in the player_entry\n",
        "  win = 0\n",
        "  win_list = []\n",
        "  if x in player_entry:\n",
        "    win += 1\n",
        "    win_list.append(x)\n",
        "\n",
        "\n",
        "print(f'The winning lottery numbers are: {winning_lottery_numbers} ')\n",
        "\n",
        "if len(win_list) == 5:\n",
        "  print(f'Congratulations!!! You guessed all the numbers correctly: {win_list}')\n",
        "elif len(win_list) > 0 and len(win_list) < 5:\n",
        "  print(f'Nice try! You guessed the winning numbers partially: {win_list}')\n",
        "else:\n",
        "  print(f'Try again next time!')\n",
        "\n",
        ""
      ],
      "metadata": {
        "colab": {
          "base_uri": "https://localhost:8080/"
        },
        "id": "PunHK7WsaVjf",
        "outputId": "3f1e9447-1f93-4859-f279-5a1b825dda40"
      },
      "execution_count": 10,
      "outputs": [
        {
          "output_type": "stream",
          "name": "stdout",
          "text": [
            "Please wait few seconds while the lottery is running... \n",
            "Generating the lucky numbers...\n",
            "The winning lottery numbers are: [75, 54, 47, 24, 11] \n",
            "Try again next time!\n"
          ]
        }
      ]
    },
    {
      "cell_type": "markdown",
      "source": [
        "What if I want to run the number lottery multiple times without re-running the input cell explicitly?"
      ],
      "metadata": {
        "id": "xc0SbTPNfdbu"
      }
    },
    {
      "cell_type": "code",
      "source": [
        "#define a module that accepts the player entries having 5 numbers from 1 to 99.\n",
        "\n",
        "def number_lottery_input(player_entry_list):\n",
        "\n",
        "  print('Please wait few seconds while the lottery is running... ')\n",
        "  time.sleep(2)\n",
        "\n",
        "  print('Generating the lucky numbers...')\n",
        "  time.sleep(5)\n",
        "\n",
        "  #generate and store the winning numbers\n",
        "  lottery_timecounter_mod=1\n",
        "  winning_lottery_numbers_mod = []\n",
        "  while lottery_timecounter_mod <= 5:\n",
        "    x_mod = random.randint(1,99)\n",
        "    #store only unique numbers in the winning_lottery_numbers\n",
        "    if x_mod not in winning_lottery_numbers_mod:\n",
        "      winning_lottery_numbers_mod.append(x_mod)\n",
        "      lottery_timecounter_mod +=1\n",
        "\n",
        "    #check if the generate number x is present in the player_entry\n",
        "    s = set(winning_lottery_numbers_mod)\n",
        "    win_list_mod = [x for x in player_entry_list if x in s]\n",
        "\n",
        "    #checking the generated winning list while in the loop\n",
        "    # print(win_list_mod)\n",
        "    # print(len(win_list_mod))\n",
        "\n",
        "  print(f'The winning lottery numbers are: {winning_lottery_numbers_mod} ')\n",
        "\n",
        "  if len(win_list_mod) == 5:\n",
        "    print(f'Congratulations!!! You guessed all the numbers correctly: {win_list_mod}')\n",
        "  elif len(win_list_mod) > 0 and len(win_list_mod) < 5:\n",
        "    print(f'Nice try! You guessed the winning numbers partially: {win_list_mod}')\n",
        "  else:\n",
        "    print(f'Try again next time!')\n",
        "\n",
        "\n",
        "number_lottery_input([53, 25, 15, 10, 3])\n"
      ],
      "metadata": {
        "colab": {
          "base_uri": "https://localhost:8080/"
        },
        "id": "pDotZw9vfufW",
        "outputId": "28d4fd85-8d27-437b-de3e-de45b201afed"
      },
      "execution_count": 21,
      "outputs": [
        {
          "output_type": "stream",
          "name": "stdout",
          "text": [
            "Please wait few seconds while the lottery is running... \n",
            "Generating the lucky numbers...\n",
            "The winning lottery numbers are: [71, 96, 16, 31, 15] \n",
            "Nice try! You guessed the winning numbers partially: [15]\n"
          ]
        }
      ]
    },
    {
      "cell_type": "code",
      "source": [
        "number_lottery_input([52, 28, 12, 90, 39])"
      ],
      "metadata": {
        "colab": {
          "base_uri": "https://localhost:8080/"
        },
        "id": "PuR2DtVpkBDd",
        "outputId": "785c8141-f159-450a-aabf-774aad231cf2"
      },
      "execution_count": 22,
      "outputs": [
        {
          "output_type": "stream",
          "name": "stdout",
          "text": [
            "Please wait few seconds while the lottery is running... \n",
            "Generating the lucky numbers...\n",
            "The winning lottery numbers are: [61, 87, 66, 51, 47] \n",
            "Try again next time!\n"
          ]
        }
      ]
    },
    {
      "cell_type": "code",
      "source": [
        "number_lottery_input([2, 29, 38, 80, 55])"
      ],
      "metadata": {
        "colab": {
          "base_uri": "https://localhost:8080/"
        },
        "id": "040t2cbgkTXb",
        "outputId": "c76cdb98-9230-4dd7-b016-997d5c1fa13d"
      },
      "execution_count": 27,
      "outputs": [
        {
          "output_type": "stream",
          "name": "stdout",
          "text": [
            "Please wait few seconds while the lottery is running... \n",
            "Generating the lucky numbers...\n",
            "The winning lottery numbers are: [96, 12, 2, 79, 55] \n",
            "Nice try! You guessed the winning numbers partially: [2, 55]\n"
          ]
        }
      ]
    }
  ]
}