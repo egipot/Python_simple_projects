{
  "nbformat": 4,
  "nbformat_minor": 0,
  "metadata": {
    "colab": {
      "provenance": [],
      "gpuType": "T4",
      "authorship_tag": "ABX9TyMMPZDkWnITL82Bj0ZYMhAP",
      "include_colab_link": true
    },
    "kernelspec": {
      "name": "python3",
      "display_name": "Python 3"
    },
    "language_info": {
      "name": "python"
    },
    "accelerator": "GPU"
  },
  "cells": [
    {
      "cell_type": "markdown",
      "metadata": {
        "id": "view-in-github",
        "colab_type": "text"
      },
      "source": [
        "<a href=\"https://colab.research.google.com/github/egipot/Python_simple_projects/blob/main/FCC_LLM_1_bigram.ipynb\" target=\"_parent\"><img src=\"https://colab.research.google.com/assets/colab-badge.svg\" alt=\"Open In Colab\"/></a>"
      ]
    },
    {
      "cell_type": "code",
      "execution_count": null,
      "metadata": {
        "colab": {
          "base_uri": "https://localhost:8080/"
        },
        "id": "BKf7k4EaKf9m",
        "outputId": "cc4fff4a-4f8e-434a-ba49-139d8a07118e"
      },
      "outputs": [
        {
          "output_type": "stream",
          "name": "stdout",
          "text": [
            "123730\n"
          ]
        }
      ],
      "source": [
        "#open a sample book and check the length\n",
        "with open ('cinderella.txt', 'r', encoding = 'utf-8') as f:\n",
        "    text = f.read()\n",
        "\n",
        "print(len(text))"
      ]
    },
    {
      "cell_type": "code",
      "source": [
        "#print the first 200chars of the book:\n",
        "print(text[:200])"
      ],
      "metadata": {
        "colab": {
          "base_uri": "https://localhost:8080/"
        },
        "id": "vcBrsOpcSHaM",
        "outputId": "3884271f-9103-4c63-ede6-fcef4ede50d2"
      },
      "execution_count": null,
      "outputs": [
        {
          "output_type": "stream",
          "name": "stdout",
          "text": [
            "﻿The Project Gutenberg eBook of Cinderella; Or, The Little Glass Slipper, and Other Stories\n",
            "    \n",
            "This ebook is for the use of anyone anywhere in the United States and\n",
            "most other parts of the world at \n"
          ]
        }
      ]
    },
    {
      "cell_type": "code",
      "source": [
        "#create a list of characters used in the text file, as if a vocabulary list (for later use)\n",
        "chars = sorted(set(text))\n",
        "print(chars)"
      ],
      "metadata": {
        "colab": {
          "base_uri": "https://localhost:8080/"
        },
        "id": "ur3h2Y_tSKcj",
        "outputId": "66205bca-f601-4861-e232-e5f57054dd2a"
      },
      "execution_count": null,
      "outputs": [
        {
          "output_type": "stream",
          "name": "stdout",
          "text": [
            "['\\n', ' ', '!', '\"', '#', '$', '%', \"'\", '(', ')', '*', ',', '-', '.', '/', '0', '1', '2', '3', '4', '5', '6', '7', '8', '9', ':', ';', '?', 'A', 'B', 'C', 'D', 'E', 'F', 'G', 'H', 'I', 'J', 'K', 'L', 'M', 'N', 'O', 'P', 'Q', 'R', 'S', 'T', 'U', 'V', 'W', 'X', 'Y', '[', ']', 'a', 'b', 'c', 'd', 'e', 'f', 'g', 'h', 'i', 'j', 'k', 'l', 'm', 'n', 'o', 'p', 'q', 'r', 's', 't', 'u', 'v', 'w', 'x', 'y', 'z', '—', '‘', '’', '“', '”', '•', '™', '\\ufeff']\n"
          ]
        }
      ]
    },
    {
      "cell_type": "code",
      "source": [
        "#count the number of character types in the entire book\n",
        "print(len(chars))"
      ],
      "metadata": {
        "colab": {
          "base_uri": "https://localhost:8080/"
        },
        "id": "pVB3IbK9SNa2",
        "outputId": "e518d180-4671-4a47-ab82-cfbac57739d3"
      },
      "execution_count": null,
      "outputs": [
        {
          "output_type": "stream",
          "name": "stdout",
          "text": [
            "89\n"
          ]
        }
      ]
    },
    {
      "cell_type": "code",
      "source": [
        "#use a tokenizer (encoder and decoder to convert each character or element of the chars array to an integer)\n",
        "string_to_int = {ch:i for i, ch in enumerate(chars)}\n",
        "int_to_string = {i:ch for i, ch in enumerate(chars)}\n",
        "encode = lambda s: [string_to_int[c] for c in s]\n",
        "decode = lambda l: ''.join([int_to_string[i] for i in l])\n",
        "\n",
        "#tokenize a sample text, for example, 'hello'\n",
        "print(encode('hello'))"
      ],
      "metadata": {
        "colab": {
          "base_uri": "https://localhost:8080/"
        },
        "id": "y4b4887zSQP7",
        "outputId": "92b81eaa-0d69-44f8-fd54-ea33392f9555"
      },
      "execution_count": null,
      "outputs": [
        {
          "output_type": "stream",
          "name": "stdout",
          "text": [
            "[62, 59, 66, 66, 69]\n"
          ]
        }
      ]
    },
    {
      "cell_type": "code",
      "source": [
        "#decode hello\n",
        "decode([62, 59, 66, 66, 69])"
      ],
      "metadata": {
        "colab": {
          "base_uri": "https://localhost:8080/",
          "height": 35
        },
        "id": "UX9ddLnISXvw",
        "outputId": "ba998ecb-7d52-42eb-dfa8-77253873b565"
      },
      "execution_count": null,
      "outputs": [
        {
          "output_type": "execute_result",
          "data": {
            "text/plain": [
              "'hello'"
            ],
            "application/vnd.google.colaboratory.intrinsic+json": {
              "type": "string"
            }
          },
          "metadata": {},
          "execution_count": 6
        }
      ]
    },
    {
      "cell_type": "code",
      "source": [
        "#use a machine learning framework \"PyTorch\"\n",
        "#PyTorch is an optimized tensor library for deep learning using GPUs and CPUs.\n",
        "#https://pytorch.org/docs/stable/index.html\n",
        "#this module supports math, calculus, linear algebra operations using tensors as the type of data\n",
        "\n",
        "import torch"
      ],
      "metadata": {
        "id": "NjURKWmJSaKl"
      },
      "execution_count": null,
      "outputs": []
    },
    {
      "cell_type": "code",
      "source": [
        "#store the whole text into a tensor element\n",
        "\n",
        "data = torch.tensor(encode(text), dtype = torch.long)"
      ],
      "metadata": {
        "id": "m9oCYJgnSb0E"
      },
      "execution_count": null,
      "outputs": []
    },
    {
      "cell_type": "code",
      "source": [
        "#as a sample, print the first 100 integers of the data\n",
        "print(data[:100])"
      ],
      "metadata": {
        "colab": {
          "base_uri": "https://localhost:8080/"
        },
        "id": "ZtgzxupwSd6T",
        "outputId": "404c4906-2ea8-4726-c3e0-abf5f311f0a0"
      },
      "execution_count": null,
      "outputs": [
        {
          "output_type": "stream",
          "name": "stdout",
          "text": [
            "tensor([88, 47, 62, 59,  1, 43, 72, 69, 64, 59, 57, 74,  1, 34, 75, 74, 59, 68,\n",
            "        56, 59, 72, 61,  1, 59, 29, 69, 69, 65,  1, 69, 60,  1, 30, 63, 68, 58,\n",
            "        59, 72, 59, 66, 66, 55, 26,  1, 42, 72, 11,  1, 47, 62, 59,  1, 39, 63,\n",
            "        74, 74, 66, 59,  1, 34, 66, 55, 73, 73,  1, 46, 66, 63, 70, 70, 59, 72,\n",
            "        11,  1, 55, 68, 58,  1, 42, 74, 62, 59, 72,  1, 46, 74, 69, 72, 63, 59,\n",
            "        73,  0,  1,  1,  1,  1,  0, 47, 62, 63])\n"
          ]
        }
      ]
    },
    {
      "cell_type": "code",
      "source": [
        "#separate data using 80:20 train vs validation ratio\n",
        "\n",
        "n = int(0.8*len(data))\n",
        "train_data = data[:n]\n",
        "val_data = data[n:]"
      ],
      "metadata": {
        "id": "czwfevAsSgI4"
      },
      "execution_count": null,
      "outputs": []
    },
    {
      "cell_type": "code",
      "source": [
        "#inputs and targets\n",
        "\n",
        "block_size = 8\n",
        "\n",
        "x = train_data[:block_size]\n",
        "y = train_data[1:block_size + 1]\n",
        "\n",
        "for t in range (block_size):\n",
        "    context = x[:t+1]\n",
        "    target = y[t]\n",
        "    print('when the input is', context, 'target is', target)"
      ],
      "metadata": {
        "colab": {
          "base_uri": "https://localhost:8080/"
        },
        "id": "9w8mjC_oSiQO",
        "outputId": "641e5400-7a8e-4844-9a86-db12458b331c"
      },
      "execution_count": null,
      "outputs": [
        {
          "output_type": "stream",
          "name": "stdout",
          "text": [
            "when the input is tensor([88]) target is tensor(47)\n",
            "when the input is tensor([88, 47]) target is tensor(62)\n",
            "when the input is tensor([88, 47, 62]) target is tensor(59)\n",
            "when the input is tensor([88, 47, 62, 59]) target is tensor(1)\n",
            "when the input is tensor([88, 47, 62, 59,  1]) target is tensor(43)\n",
            "when the input is tensor([88, 47, 62, 59,  1, 43]) target is tensor(72)\n",
            "when the input is tensor([88, 47, 62, 59,  1, 43, 72]) target is tensor(69)\n",
            "when the input is tensor([88, 47, 62, 59,  1, 43, 72, 69]) target is tensor(64)\n"
          ]
        }
      ]
    },
    {
      "cell_type": "code",
      "source": [
        "#import torch - already imported above (line 7)\n",
        "\n",
        "device = 'cuda'  if torch.cuda.is_available() else 'cpu'\n",
        "print(device)"
      ],
      "metadata": {
        "colab": {
          "base_uri": "https://localhost:8080/"
        },
        "id": "JlicNXr0Skww",
        "outputId": "7afb1e19-162c-40fa-8411-a9df6d17d96a"
      },
      "execution_count": null,
      "outputs": [
        {
          "output_type": "stream",
          "name": "stdout",
          "text": [
            "cpu\n"
          ]
        }
      ]
    },
    {
      "cell_type": "markdown",
      "source": [
        "![image.png](data:image/png;base64,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)"
      ],
      "metadata": {
        "id": "4dSsNvjTUsKO"
      }
    },
    {
      "cell_type": "markdown",
      "source": [
        "changed runtime type to T4"
      ],
      "metadata": {
        "id": "VI7omDB6U11e"
      }
    },
    {
      "cell_type": "markdown",
      "source": [
        "![image.png](data:image/png;base64,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)"
      ],
      "metadata": {
        "id": "uqshFfa5VTCo"
      }
    },
    {
      "cell_type": "code",
      "source": [
        "#importing again due to changed runtime type\n",
        "import torch\n",
        "\n",
        "device = 'cuda'  if torch.cuda.is_available() else 'cpu'\n",
        "print(device)"
      ],
      "metadata": {
        "colab": {
          "base_uri": "https://localhost:8080/"
        },
        "id": "Z4DLlnOsUtyO",
        "outputId": "dbbc95be-9091-4671-a78f-ca4b478ac5c9"
      },
      "execution_count": null,
      "outputs": [
        {
          "output_type": "stream",
          "name": "stdout",
          "text": [
            "cuda\n"
          ]
        }
      ]
    }
  ]
}