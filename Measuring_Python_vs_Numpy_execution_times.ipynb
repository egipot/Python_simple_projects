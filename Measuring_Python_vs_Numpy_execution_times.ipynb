{
  "nbformat": 4,
  "nbformat_minor": 0,
  "metadata": {
    "colab": {
      "provenance": [],
      "authorship_tag": "ABX9TyOoNDUuqdLv9FWTxyO0RZVB",
      "include_colab_link": true
    },
    "kernelspec": {
      "name": "python3",
      "display_name": "Python 3"
    },
    "language_info": {
      "name": "python"
    }
  },
  "cells": [
    {
      "cell_type": "markdown",
      "metadata": {
        "id": "view-in-github",
        "colab_type": "text"
      },
      "source": [
        "<a href=\"https://colab.research.google.com/github/egipot/Python_simple_projects/blob/main/Measuring_Python_vs_Numpy_execution_times.ipynb\" target=\"_parent\"><img src=\"https://colab.research.google.com/assets/colab-badge.svg\" alt=\"Open In Colab\"/></a>"
      ]
    },
    {
      "cell_type": "code",
      "execution_count": 17,
      "metadata": {
        "id": "RX_XFCLEiRtH"
      },
      "outputs": [],
      "source": [
        "'''\n",
        "Here is a code to show the execution times of element-wise multiplication when done:\n",
        "  - using python for-loop\n",
        "  - using python list(map())\n",
        "  - using numpy multiply()\n",
        "  - using numpy *\n",
        "\n",
        "'''\n",
        "\n",
        "import numpy as np\n",
        "import timeit\n",
        "\n",
        "# Set a seed number to get the same random number again\n",
        "np.random.seed(0)\n",
        "\n",
        "# Define the arrays, e.g. 1 million random integers\n",
        "array1 = np.random.randint(1, 10, size = 1000000)\n",
        "array2 = np.random.randint(1, 10, size = 1000000)\n",
        "\n"
      ]
    },
    {
      "cell_type": "code",
      "source": [
        "array1"
      ],
      "metadata": {
        "colab": {
          "base_uri": "https://localhost:8080/"
        },
        "id": "HJP-4OTJq9px",
        "outputId": "505f3990-2de5-4fd8-d6a6-99eb75fef1d7"
      },
      "execution_count": 18,
      "outputs": [
        {
          "output_type": "execute_result",
          "data": {
            "text/plain": [
              "array([6, 1, 4, ..., 7, 5, 9])"
            ]
          },
          "metadata": {},
          "execution_count": 18
        }
      ]
    },
    {
      "cell_type": "code",
      "source": [
        "array2"
      ],
      "metadata": {
        "colab": {
          "base_uri": "https://localhost:8080/"
        },
        "id": "xe7hseQarAfR",
        "outputId": "909518d2-3a7b-4d52-8818-cf4322436343"
      },
      "execution_count": 19,
      "outputs": [
        {
          "output_type": "execute_result",
          "data": {
            "text/plain": [
              "array([8, 7, 5, ..., 5, 8, 3])"
            ]
          },
          "metadata": {},
          "execution_count": 19
        }
      ]
    },
    {
      "cell_type": "code",
      "source": [
        "#Python implementation using List Comprehension that is combined via zip()\n",
        "def python_multiplication_using_zip(array1, array2):\n",
        "  zip_result = [array1 * array2 for array1, array2 in zip(array1, array2)]\n",
        "\n",
        "#Measure the execution time\n",
        "python_zip_execution_time = timeit.timeit(lambda: python_multiplication_using_zip(array1, array2), number = 10)/10\n",
        "python_zip_execution_time = round(python_zip_execution_time, 12)\n",
        "print(f'python_zip_execution_time = {python_zip_execution_time} seconds')"
      ],
      "metadata": {
        "colab": {
          "base_uri": "https://localhost:8080/"
        },
        "id": "2QHD9vD2mTtY",
        "outputId": "0df8287e-caed-42d1-d5a0-60810a9de1af"
      },
      "execution_count": 29,
      "outputs": [
        {
          "output_type": "stream",
          "name": "stdout",
          "text": [
            "python_zip_execution_time = 0.2036973208 seconds\n"
          ]
        }
      ]
    },
    {
      "cell_type": "code",
      "source": [
        "#Python implementation using map()\n",
        "def python_multiplication_using_map(array1, array2):\n",
        "  map_result = list(map(lambda x, y: x*y, array1, array2))\n",
        "\n",
        "#Measure the execution time\n",
        "python_map_execution_time = timeit.timeit(lambda: python_multiplication_using_map(array1, array2), number = 10)/10\n",
        "python_map_execution_time = round(python_map_execution_time, 12)\n",
        "print(f'python_map_execution_time = {python_map_execution_time} seconds')"
      ],
      "metadata": {
        "colab": {
          "base_uri": "https://localhost:8080/"
        },
        "id": "9u5RmynonajE",
        "outputId": "12b5bc1f-afa1-4052-e4a2-a9bc41da756a"
      },
      "execution_count": 36,
      "outputs": [
        {
          "output_type": "stream",
          "name": "stdout",
          "text": [
            "python_map_execution_time = 0.3627506984 seconds\n"
          ]
        }
      ]
    },
    {
      "cell_type": "code",
      "source": [
        "#Numpy implementation using multiply()\n",
        "def numpy_multiply(array1, array2):\n",
        "  numpy_multiply_result = np.multiply(array1, array2)\n",
        "\n",
        "#Measure the execution time\n",
        "numpy_multiply_execution_time = timeit.timeit(lambda: numpy_multiply(array1, array2), number = 10)/10\n",
        "numpy_multiply_execution_time = round(numpy_multiply_execution_time, 12)\n",
        "print(f'numpy_multiply_execution_time = {numpy_multiply_execution_time} seconds')"
      ],
      "metadata": {
        "colab": {
          "base_uri": "https://localhost:8080/"
        },
        "id": "3P3koRnUoYXm",
        "outputId": "052c8a7a-09a4-40d6-cbb4-a0c0d8216688"
      },
      "execution_count": 32,
      "outputs": [
        {
          "output_type": "stream",
          "name": "stdout",
          "text": [
            "numpy_multiply_execution_time = 0.0025848366 seconds\n"
          ]
        }
      ]
    },
    {
      "cell_type": "code",
      "source": [
        "#Numpy implementation using *\n",
        "def numpy_implementation(array1, array2):\n",
        "  numpy_result = array1 * array2\n",
        "\n",
        "#Measure the execution time\n",
        "numpy_execution_time = timeit.timeit(lambda: numpy_implementation(array1, array2), number = 10)/10\n",
        "numpy_execution_time = round(numpy_execution_time, 12)\n",
        "print(f'numpy_execution_time = {numpy_execution_time} seconds')"
      ],
      "metadata": {
        "colab": {
          "base_uri": "https://localhost:8080/"
        },
        "id": "_DcNG5MSo75W",
        "outputId": "235e1525-4749-4498-8668-c80461a503f7"
      },
      "execution_count": 33,
      "outputs": [
        {
          "output_type": "stream",
          "name": "stdout",
          "text": [
            "numpy_execution_time = 0.0025627335 seconds\n"
          ]
        }
      ]
    },
    {
      "cell_type": "code",
      "source": [
        "sorted([python_zip_execution_time, python_map_execution_time, numpy_multiply_execution_time, numpy_execution_time])"
      ],
      "metadata": {
        "colab": {
          "base_uri": "https://localhost:8080/"
        },
        "id": "TwttnRpTppz2",
        "outputId": "090c8c51-747f-4652-90f5-7b2df627dac4"
      },
      "execution_count": 38,
      "outputs": [
        {
          "output_type": "execute_result",
          "data": {
            "text/plain": [
              "[0.0025627335, 0.0025848366, 0.2036973208, 0.3627506984]"
            ]
          },
          "metadata": {},
          "execution_count": 38
        }
      ]
    },
    {
      "cell_type": "code",
      "source": [
        "numpy_implementation(array1, array2) == numpy_multiply(array1, array2) == python_multiplication_using_zip(array1, array2) == python_multiplication_using_map(array1, array2)"
      ],
      "metadata": {
        "colab": {
          "base_uri": "https://localhost:8080/"
        },
        "id": "ppQHHPZjym7O",
        "outputId": "c48d7800-e410-41b6-bcf7-89976b8fcc85"
      },
      "execution_count": 42,
      "outputs": [
        {
          "output_type": "execute_result",
          "data": {
            "text/plain": [
              "True"
            ]
          },
          "metadata": {},
          "execution_count": 42
        }
      ]
    },
    {
      "cell_type": "markdown",
      "source": [
        "All the resulting products are equal. However, Numpy implementations are the fastest methods in element-wise multiplication."
      ],
      "metadata": {
        "id": "HDtJNtuaxrQa"
      }
    }
  ]
}