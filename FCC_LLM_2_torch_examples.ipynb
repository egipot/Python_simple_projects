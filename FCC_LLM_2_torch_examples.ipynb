{
  "nbformat": 4,
  "nbformat_minor": 0,
  "metadata": {
    "colab": {
      "provenance": [],
      "gpuType": "T4",
      "authorship_tag": "ABX9TyNdL7sIbpFvCQh1oHqaEob7",
      "include_colab_link": true
    },
    "kernelspec": {
      "name": "python3",
      "display_name": "Python 3"
    },
    "language_info": {
      "name": "python"
    },
    "accelerator": "GPU"
  },
  "cells": [
    {
      "cell_type": "markdown",
      "metadata": {
        "id": "view-in-github",
        "colab_type": "text"
      },
      "source": [
        "<a href=\"https://colab.research.google.com/github/egipot/Python_simple_projects/blob/main/FCC_LLM_2_torch_examples.ipynb\" target=\"_parent\"><img src=\"https://colab.research.google.com/assets/colab-badge.svg\" alt=\"Open In Colab\"/></a>"
      ]
    },
    {
      "cell_type": "code",
      "execution_count": 1,
      "metadata": {
        "id": "g05ObGk2USqs"
      },
      "outputs": [],
      "source": [
        "import torch"
      ]
    },
    {
      "cell_type": "code",
      "source": [
        "random_int = torch.randint(-100, 100, size = (6,)) #six elements in a row\n",
        "random_int"
      ],
      "metadata": {
        "colab": {
          "base_uri": "https://localhost:8080/"
        },
        "id": "WsZ2FPQKYgTM",
        "outputId": "36364cc7-edfa-4c09-e8b3-c365b67b860d"
      },
      "execution_count": 2,
      "outputs": [
        {
          "output_type": "execute_result",
          "data": {
            "text/plain": [
              "tensor([ 15,  54, -98,  60,  81,  -1])"
            ]
          },
          "metadata": {},
          "execution_count": 2
        }
      ]
    },
    {
      "cell_type": "code",
      "source": [
        "random_int2 = torch.randint(-100, 100, size = (6,3)) #6 rows in 3 columns\n",
        "random_int2"
      ],
      "metadata": {
        "colab": {
          "base_uri": "https://localhost:8080/"
        },
        "id": "IofNA3LKYsgX",
        "outputId": "881d612f-0bcc-4ace-9698-cacf47eb7dec"
      },
      "execution_count": 3,
      "outputs": [
        {
          "output_type": "execute_result",
          "data": {
            "text/plain": [
              "tensor([[-70,  29,   1],\n",
              "        [-55,  72, -80],\n",
              "        [-22,  14, -27],\n",
              "        [ 89, -36, -36],\n",
              "        [ 43, -52, -24],\n",
              "        [-18,  31,  75]])"
            ]
          },
          "metadata": {},
          "execution_count": 3
        }
      ]
    },
    {
      "cell_type": "code",
      "source": [
        "random_int3 = torch.randint(-100, 100, size = (6,3,2)) #6 sets having 3 rows and 2 columns"
      ],
      "metadata": {
        "colab": {
          "base_uri": "https://localhost:8080/"
        },
        "id": "vdFqX68BY3Lw",
        "outputId": "deafb1c4-098c-43e6-e267-ccdf13dd5072"
      },
      "execution_count": 4,
      "outputs": [
        {
          "output_type": "execute_result",
          "data": {
            "text/plain": [
              "tensor([[[ 77,  49],\n",
              "         [-86, -97],\n",
              "         [ 38,  47]],\n",
              "\n",
              "        [[-81,  -8],\n",
              "         [-60, -45],\n",
              "         [ 71,  26]],\n",
              "\n",
              "        [[ 76,  93],\n",
              "         [ 77,  37],\n",
              "         [-12,  27]],\n",
              "\n",
              "        [[-44,  53],\n",
              "         [-53,  40],\n",
              "         [ 37, -35]],\n",
              "\n",
              "        [[ -7, -50],\n",
              "         [ 72,  85],\n",
              "         [ 21,  55]],\n",
              "\n",
              "        [[ 63, -57],\n",
              "         [ 87,  79],\n",
              "         [-57, -40]]])"
            ]
          },
          "metadata": {},
          "execution_count": 4
        }
      ]
    },
    {
      "cell_type": "code",
      "source": [
        "tensor = torch.tensor([[0.1, 1.2], [2.2, 3.1], [4.9, 5.2]])\n",
        "tensor"
      ],
      "metadata": {
        "colab": {
          "base_uri": "https://localhost:8080/"
        },
        "id": "01mJUCjmZobC",
        "outputId": "e4e49bca-0b6d-4fac-ae19-eaecb6e49a4a"
      },
      "execution_count": 5,
      "outputs": [
        {
          "output_type": "execute_result",
          "data": {
            "text/plain": [
              "tensor([[0.1000, 1.2000],\n",
              "        [2.2000, 3.1000],\n",
              "        [4.9000, 5.2000]])"
            ]
          },
          "metadata": {},
          "execution_count": 5
        }
      ]
    },
    {
      "cell_type": "code",
      "source": [
        "zeroes = torch.zeros(2,3)\n",
        "zeroes"
      ],
      "metadata": {
        "colab": {
          "base_uri": "https://localhost:8080/"
        },
        "id": "ZWmGQ9LNZy5t",
        "outputId": "e9795d87-f29f-4eb7-ca47-8edee9ba30a3"
      },
      "execution_count": 6,
      "outputs": [
        {
          "output_type": "execute_result",
          "data": {
            "text/plain": [
              "tensor([[0., 0., 0.],\n",
              "        [0., 0., 0.]])"
            ]
          },
          "metadata": {},
          "execution_count": 6
        }
      ]
    },
    {
      "cell_type": "code",
      "source": [
        "ones = torch.ones(3,4)\n",
        "ones"
      ],
      "metadata": {
        "colab": {
          "base_uri": "https://localhost:8080/"
        },
        "id": "sS4v00R1Z4w7",
        "outputId": "f3488dc5-76b7-45e6-aec8-e4a1bdd86892"
      },
      "execution_count": 7,
      "outputs": [
        {
          "output_type": "execute_result",
          "data": {
            "text/plain": [
              "tensor([[1., 1., 1., 1.],\n",
              "        [1., 1., 1., 1.],\n",
              "        [1., 1., 1., 1.]])"
            ]
          },
          "metadata": {},
          "execution_count": 7
        }
      ]
    },
    {
      "cell_type": "code",
      "source": [
        "input = torch.empty(4,5)\n",
        "input"
      ],
      "metadata": {
        "colab": {
          "base_uri": "https://localhost:8080/"
        },
        "id": "61IXTwSkZ-Lt",
        "outputId": "e9626d8e-e734-4492-dc09-7163792fe6e9"
      },
      "execution_count": 8,
      "outputs": [
        {
          "output_type": "execute_result",
          "data": {
            "text/plain": [
              "tensor([[-2.9337e-33,  7.0065e-45,  0.0000e+00,  1.4013e-45,  4.5688e-03],\n",
              "        [ 3.1780e-41,  1.7227e+05,  4.3952e-41,  4.5688e-03,  3.1780e-41],\n",
              "        [ 1.0078e+00,  1.0000e+00,  1.1210e-44,  0.0000e+00,  3.5873e-43],\n",
              "        [ 0.0000e+00,  1.8369e+05,  4.3952e-41,  0.0000e+00,  0.0000e+00]])"
            ]
          },
          "metadata": {},
          "execution_count": 8
        }
      ]
    },
    {
      "cell_type": "code",
      "source": [
        "arange = torch.arange(5)\n",
        "arange"
      ],
      "metadata": {
        "colab": {
          "base_uri": "https://localhost:8080/"
        },
        "id": "GaI6gxpPaFox",
        "outputId": "55647793-3da3-4b2a-8fdb-8f9161d03313"
      },
      "execution_count": 9,
      "outputs": [
        {
          "output_type": "execute_result",
          "data": {
            "text/plain": [
              "tensor([0, 1, 2, 3, 4])"
            ]
          },
          "metadata": {},
          "execution_count": 9
        }
      ]
    },
    {
      "cell_type": "code",
      "source": [
        "linspace = torch.linspace (3, 10, steps = 5)\n",
        "linspace"
      ],
      "metadata": {
        "colab": {
          "base_uri": "https://localhost:8080/"
        },
        "id": "jmwQaImZaNqC",
        "outputId": "6aa2521f-58f0-4a5c-96a2-1eb7e8571e30"
      },
      "execution_count": 10,
      "outputs": [
        {
          "output_type": "execute_result",
          "data": {
            "text/plain": [
              "tensor([ 3.0000,  4.7500,  6.5000,  8.2500, 10.0000])"
            ]
          },
          "metadata": {},
          "execution_count": 10
        }
      ]
    },
    {
      "cell_type": "code",
      "source": [
        "logspace = torch.logspace(start = -10, end = 10, steps = 5)\n",
        "logspace"
      ],
      "metadata": {
        "colab": {
          "base_uri": "https://localhost:8080/"
        },
        "id": "fMBZQz7taaz7",
        "outputId": "6d5ce024-d07c-4661-dca4-a76d7037ad46"
      },
      "execution_count": 11,
      "outputs": [
        {
          "output_type": "execute_result",
          "data": {
            "text/plain": [
              "tensor([1.0000e-10, 1.0000e-05, 1.0000e+00, 1.0000e+05, 1.0000e+10])"
            ]
          },
          "metadata": {},
          "execution_count": 11
        }
      ]
    },
    {
      "cell_type": "markdown",
      "source": [
        "1's forming a diagonal line"
      ],
      "metadata": {
        "id": "iCLWrd7Ma0Es"
      }
    },
    {
      "cell_type": "code",
      "source": [
        "eye = torch.eye(5)\n",
        "eye"
      ],
      "metadata": {
        "colab": {
          "base_uri": "https://localhost:8080/"
        },
        "id": "8RLnT8ziakxI",
        "outputId": "672f3162-dabb-4f5f-e7c5-5fda885ac4f8"
      },
      "execution_count": 12,
      "outputs": [
        {
          "output_type": "execute_result",
          "data": {
            "text/plain": [
              "tensor([[1., 0., 0., 0., 0.],\n",
              "        [0., 1., 0., 0., 0.],\n",
              "        [0., 0., 1., 0., 0.],\n",
              "        [0., 0., 0., 1., 0.],\n",
              "        [0., 0., 0., 0., 1.]])"
            ]
          },
          "metadata": {},
          "execution_count": 12
        }
      ]
    },
    {
      "cell_type": "markdown",
      "source": [],
      "metadata": {
        "id": "HLRQugvJb5oz"
      }
    },
    {
      "cell_type": "code",
      "source": [
        "a = torch.empty((2,3), dtype = torch.int64)\n",
        "a"
      ],
      "metadata": {
        "colab": {
          "base_uri": "https://localhost:8080/"
        },
        "id": "UQqnDJ2Zb6oX",
        "outputId": "ee809980-0f79-4a01-bec1-31abdfe82e1f"
      },
      "execution_count": 14,
      "outputs": [
        {
          "output_type": "execute_result",
          "data": {
            "text/plain": [
              "tensor([[              0,  97406545331872,  97406539286960],\n",
              "        [134709333238272,               1,               6]])"
            ]
          },
          "metadata": {},
          "execution_count": 14
        }
      ]
    },
    {
      "cell_type": "code",
      "source": [
        "a = torch.empty((2,3), dtype = torch.int64)\n",
        "\n",
        "empty_like = torch.empty_like(a)\n",
        "empty_like"
      ],
      "metadata": {
        "colab": {
          "base_uri": "https://localhost:8080/"
        },
        "id": "mygAFGeYa4_X",
        "outputId": "1b82b6ca-9ae7-49cc-b3d5-dfcab9381894"
      },
      "execution_count": 16,
      "outputs": [
        {
          "output_type": "execute_result",
          "data": {
            "text/plain": [
              "tensor([[    134713335524752,     134713335524752,                   0],\n",
              "        [                  0,                   0, 7310593858020254331]])"
            ]
          },
          "metadata": {},
          "execution_count": 16
        }
      ]
    },
    {
      "cell_type": "markdown",
      "source": [
        "# Comparing performance in different devices"
      ],
      "metadata": {
        "id": "C_fRmGXmcm7z"
      }
    },
    {
      "cell_type": "markdown",
      "source": [
        "CPU\n",
        "\n",
        "CUDA"
      ],
      "metadata": {
        "id": "kqizrPtKcub_"
      }
    },
    {
      "cell_type": "code",
      "source": [
        "import torch\n",
        "import numpy as np\n",
        "import time\n",
        "\n",
        "device = 'cuda'  if torch.cuda.is_available() else 'cpu'\n",
        "print(device)"
      ],
      "metadata": {
        "colab": {
          "base_uri": "https://localhost:8080/"
        },
        "id": "DlvU8FcKc1qE",
        "outputId": "b068fd86-3257-498e-d3c7-3c0917e10d53"
      },
      "execution_count": 18,
      "outputs": [
        {
          "output_type": "stream",
          "name": "stdout",
          "text": [
            "cpu\n"
          ]
        }
      ]
    },
    {
      "cell_type": "markdown",
      "source": [
        "![image.png](data:image/png;base64,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)"
      ],
      "metadata": {
        "id": "nyDhb_qif_rE"
      }
    },
    {
      "cell_type": "code",
      "source": [
        "#store the start timestamp\n",
        "start_time = time.time()\n",
        "\n",
        "#matrix operations here\n",
        "zeroes = torch.zeros(1,1)\n",
        "\n",
        "#store the end timestamp\n",
        "end_time = time.time()\n",
        "\n",
        "#calculate the elapsed time from when the operation stopped to when it started\n",
        "elapsed_time = end_time - start_time\n",
        "\n",
        "#print with 10-digit decimal places\n",
        "print(f\"{elapsed_time: .10f}\")"
      ],
      "metadata": {
        "colab": {
          "base_uri": "https://localhost:8080/"
        },
        "id": "RCKZWcjJdGsc",
        "outputId": "5e89a5f0-4eab-41ad-dc25-031dd866752f"
      },
      "execution_count": 20,
      "outputs": [
        {
          "output_type": "stream",
          "name": "stdout",
          "text": [
            " 0.0002231598\n"
          ]
        }
      ]
    },
    {
      "cell_type": "code",
      "source": [
        "torch_rand1 = torch.rand(10000,10000).to(device)\n",
        "torch_rand2 = torch.rand(10000,10000).to(device)\n",
        "\n",
        "np_rand1 = torch.rand(10000,10000)\n",
        "np_rand2 = torch.rand(10000,10000)\n",
        "\n",
        "start_time = time.time()\n",
        "\n",
        "#multiply in pytorch = use @\n",
        "torch_rand = (torch_rand1 @ torch_rand2)\n",
        "\n",
        "end_time = time.time()\n",
        "\n",
        "elapsed_time = end_time - start_time\n",
        "print(f\"{elapsed_time: .10f}\")\n",
        "\n",
        "########\n",
        "#test using numpy operation\n",
        "start_time = time.time()\n",
        "\n",
        "np_rand = np.multiply(np_rand1, np_rand2)\n",
        "\n",
        "end_time = time.time()\n",
        "\n",
        "elapsed_time = end_time - start_time\n",
        "print(f\"{elapsed_time: .10f}\")"
      ],
      "metadata": {
        "colab": {
          "base_uri": "https://localhost:8080/"
        },
        "id": "aex-jcTqfDjI",
        "outputId": "de367bfe-0ef8-4c60-9b30-2cd2216c2bc6"
      },
      "execution_count": 21,
      "outputs": [
        {
          "output_type": "stream",
          "name": "stdout",
          "text": [
            " 32.3272097111\n",
            " 0.2915899754\n"
          ]
        }
      ]
    },
    {
      "cell_type": "markdown",
      "source": [
        "Change the runtype type:\n",
        "\n",
        "![image.png](data:image/png;base64,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)"
      ],
      "metadata": {
        "id": "A1bYyHXPgCET"
      }
    },
    {
      "cell_type": "code",
      "source": [
        "import torch\n",
        "\n",
        "device = 'cuda'  if torch.cuda.is_available() else 'cpu'\n",
        "print(device)"
      ],
      "metadata": {
        "colab": {
          "base_uri": "https://localhost:8080/"
        },
        "id": "4rgbCUHvgUlA",
        "outputId": "ecc17cb7-ef7c-4ceb-c994-4678991d562c"
      },
      "execution_count": 2,
      "outputs": [
        {
          "output_type": "stream",
          "name": "stdout",
          "text": [
            "cuda\n"
          ]
        }
      ]
    },
    {
      "cell_type": "code",
      "source": [
        "import time\n",
        "import numpy as np\n",
        "\n",
        "torch_rand1 = torch.rand(10000,10000).to(device)\n",
        "torch_rand2 = torch.rand(10000,10000).to(device)\n",
        "\n",
        "np_rand1 = torch.rand(10000,10000)\n",
        "np_rand2 = torch.rand(10000,10000)\n",
        "\n",
        "start_time = time.time()\n",
        "\n",
        "#multiply in pytorch = use @\n",
        "torch_rand = (torch_rand1 @ torch_rand2)\n",
        "\n",
        "end_time = time.time()\n",
        "\n",
        "elapsed_time = end_time - start_time\n",
        "print(f\"{elapsed_time: .10f}\")\n",
        "\n",
        "########\n",
        "#test using numpy operation\n",
        "start_time = time.time()\n",
        "\n",
        "np_rand = np.multiply(np_rand1, np_rand2)\n",
        "\n",
        "end_time = time.time()\n",
        "\n",
        "elapsed_time = end_time - start_time\n",
        "print(f\"{elapsed_time: .10f}\")"
      ],
      "metadata": {
        "colab": {
          "base_uri": "https://localhost:8080/"
        },
        "id": "lOT-InfJgFQQ",
        "outputId": "6c928931-733e-4134-b2d3-22ea55faa551"
      },
      "execution_count": 4,
      "outputs": [
        {
          "output_type": "stream",
          "name": "stdout",
          "text": [
            " 0.1271753311\n",
            " 0.1572523117\n"
          ]
        }
      ]
    },
    {
      "cell_type": "markdown",
      "source": [
        "Change the runtime type to TPUv2\n",
        "\n",
        "![image.png](data:image/png;base64,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)\n"
      ],
      "metadata": {
        "id": "vt2D9PrVhBTX"
      }
    },
    {
      "cell_type": "code",
      "source": [
        "import tensorflow as tf\n",
        "\n",
        "import os\n",
        "import tensorflow_datasets as tfds"
      ],
      "metadata": {
        "id": "5HfoC4OVh-vQ"
      },
      "execution_count": 2,
      "outputs": []
    },
    {
      "cell_type": "code",
      "source": [
        "print(\"Tensorflow version \" + tf.__version__)"
      ],
      "metadata": {
        "colab": {
          "base_uri": "https://localhost:8080/"
        },
        "id": "7e7ifN8CjBZy",
        "outputId": "e38a6a71-edf8-4601-9b8c-84725122dacf"
      },
      "execution_count": 7,
      "outputs": [
        {
          "output_type": "stream",
          "name": "stdout",
          "text": [
            "Tensorflow version 2.15.0\n"
          ]
        }
      ]
    },
    {
      "cell_type": "code",
      "source": [
        "\n",
        "try:\n",
        "  tpu = tf.distribute.cluster_resolver.TPUClusterResolver()  # TPU detection\n",
        "  print(tpu)\n",
        "  #print('Running on TPU ', tpu.cluster_spec().as_dict()['worker'])\n",
        "except ValueError:\n",
        "  raise BaseException('ERROR: Not connected to a TPU runtime; please see the previous cell in this notebook for instructions!')\n"
      ],
      "metadata": {
        "colab": {
          "base_uri": "https://localhost:8080/"
        },
        "id": "2IXiGxrVjFVi",
        "outputId": "58e4ebbd-2833-478f-e45d-479d5df9d6c1"
      },
      "execution_count": 9,
      "outputs": [
        {
          "output_type": "stream",
          "name": "stdout",
          "text": [
            "<tensorflow.python.distribute.cluster_resolver.tpu.tpu_cluster_resolver.TPUClusterResolver object at 0x7cad83259e10>\n"
          ]
        }
      ]
    },
    {
      "cell_type": "code",
      "source": [
        "\n",
        "try:\n",
        "  tpu = tf.distribute.cluster_resolver.TPUClusterResolver()  # TPU detection\n",
        "  print(tpu)\n",
        "  #print('Running on TPU ', tpu.cluster_spec().as_dict())\n",
        "  print(\"All devices: \", tf.config.list_logical_devices('TPU'))\n",
        "except ValueError:\n",
        "  raise BaseException('ERROR: Not connected to a TPU runtime; please see the previous cell in this notebook for instructions!')\n",
        "\n",
        "\n",
        "#https://colab.research.google.com/github/tensorflow/tpu/blob/master/tools/colab/profiling_tpus_in_colab.ipynb#scrollTo=FpvUOuC3j27n"
      ],
      "metadata": {
        "colab": {
          "base_uri": "https://localhost:8080/"
        },
        "id": "xDcORfRVjczA",
        "outputId": "aa6fa4dd-28ce-4364-c376-a0c40994c229"
      },
      "execution_count": 13,
      "outputs": [
        {
          "output_type": "stream",
          "name": "stdout",
          "text": [
            "<tensorflow.python.distribute.cluster_resolver.tpu.tpu_cluster_resolver.TPUClusterResolver object at 0x7cad8325ab60>\n",
            "All devices:  [LogicalDevice(name='/device:TPU:0', device_type='TPU'), LogicalDevice(name='/device:TPU:1', device_type='TPU'), LogicalDevice(name='/device:TPU:2', device_type='TPU'), LogicalDevice(name='/device:TPU:3', device_type='TPU'), LogicalDevice(name='/device:TPU:4', device_type='TPU'), LogicalDevice(name='/device:TPU:5', device_type='TPU'), LogicalDevice(name='/device:TPU:6', device_type='TPU'), LogicalDevice(name='/device:TPU:7', device_type='TPU')]\n"
          ]
        }
      ]
    },
    {
      "cell_type": "code",
      "source": [
        "import time\n",
        "import numpy as np\n",
        "\n",
        "torch_rand1 = torch.rand(10000,10000).to(device)\n",
        "torch_rand2 = torch.rand(10000,10000).to(device)\n",
        "\n",
        "np_rand1 = torch.rand(10000,10000)\n",
        "np_rand2 = torch.rand(10000,10000)\n",
        "\n",
        "start_time = time.time()\n",
        "\n",
        "#multiply in pytorch = use @\n",
        "torch_rand = (torch_rand1 @ torch_rand2)\n",
        "\n",
        "end_time = time.time()\n",
        "\n",
        "elapsed_time = end_time - start_time\n",
        "print(f\"{elapsed_time: .10f}\")\n",
        "\n",
        "########\n",
        "#test using numpy operation\n",
        "start_time = time.time()\n",
        "\n",
        "np_rand = np.multiply(np_rand1, np_rand2)\n",
        "\n",
        "end_time = time.time()\n",
        "\n",
        "elapsed_time = end_time - start_time\n",
        "print(f\"{elapsed_time: .10f}\")"
      ],
      "metadata": {
        "colab": {
          "base_uri": "https://localhost:8080/"
        },
        "id": "54AsKA9-khZK",
        "outputId": "d5d0ee40-5aa5-4817-de49-00125334fe54"
      },
      "execution_count": 14,
      "outputs": [
        {
          "output_type": "stream",
          "name": "stdout",
          "text": [
            " 0.5287840366\n",
            " 0.1663970947\n"
          ]
        }
      ]
    },
    {
      "cell_type": "markdown",
      "source": [
        "Best performance is when running at T4 GPU, so change it back.\n",
        "\n",
        "CPU\n",
        "32.3272097111\n",
        "0.2915899754\n",
        "\n",
        "T4 GPU  \n",
        "0.1271753311\n",
        "0.1572523117\n",
        "\n",
        "TPU v2\n",
        "0.5287840366\n",
        "0.1663970947"
      ],
      "metadata": {
        "id": "aO2JQerTkvlM"
      }
    },
    {
      "cell_type": "markdown",
      "source": [
        "![image.png](data:image/png;base64,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)"
      ],
      "metadata": {
        "id": "7E9Gt4d0lW-6"
      }
    },
    {
      "cell_type": "code",
      "source": [
        "import tensorflow as tf\n",
        "\n",
        "try:\n",
        "  print(\"All devices: \", tf.config.list_logical_devices('GPU'))\n",
        "except ValueError:\n",
        "  raise BaseException('ERROR: Not connected to a GPU runtime')\n",
        "\n",
        "\n",
        "#https://colab.research.google.com/github/tensorflow/tpu/blob/master/tools/colab/profiling_tpus_in_colab.ipynb#scrollTo=FpvUOuC3j27n"
      ],
      "metadata": {
        "colab": {
          "base_uri": "https://localhost:8080/"
        },
        "id": "EZBO3QtulK1m",
        "outputId": "645d0668-ac33-49b2-e0e1-5a933f738168"
      },
      "execution_count": 5,
      "outputs": [
        {
          "output_type": "stream",
          "name": "stdout",
          "text": [
            "All devices:  [LogicalDevice(name='/device:GPU:0', device_type='GPU')]\n"
          ]
        }
      ]
    },
    {
      "cell_type": "code",
      "source": [
        "import torch\n",
        "\n",
        "device = 'cuda'  if torch.cuda.is_available() else 'cpu'\n",
        "print(device)"
      ],
      "metadata": {
        "colab": {
          "base_uri": "https://localhost:8080/"
        },
        "id": "c0-HkF2KmNkU",
        "outputId": "38cdbfe0-53dd-4be7-e682-6a792e681289"
      },
      "execution_count": 6,
      "outputs": [
        {
          "output_type": "stream",
          "name": "stdout",
          "text": [
            "cuda\n"
          ]
        }
      ]
    },
    {
      "cell_type": "code",
      "source": [
        "import time\n",
        "import numpy as np\n",
        "\n",
        "torch_rand1 = torch.rand(10000,10000).to(device)\n",
        "torch_rand2 = torch.rand(10000,10000).to(device)\n",
        "\n",
        "np_rand1 = torch.rand(10000,10000)\n",
        "np_rand2 = torch.rand(10000,10000)\n",
        "\n",
        "start_time = time.time()\n",
        "\n",
        "#multiply in pytorch = use @\n",
        "torch_rand = (torch_rand1 @ torch_rand2)\n",
        "\n",
        "end_time = time.time()\n",
        "\n",
        "elapsed_time = end_time - start_time\n",
        "print(f\"{elapsed_time: .10f}\")\n",
        "\n",
        "########\n",
        "#test using numpy operation\n",
        "start_time = time.time()\n",
        "\n",
        "np_rand = np.multiply(np_rand1, np_rand2)\n",
        "\n",
        "end_time = time.time()\n",
        "\n",
        "elapsed_time = end_time - start_time\n",
        "print(f\"{elapsed_time: .10f}\")"
      ],
      "metadata": {
        "colab": {
          "base_uri": "https://localhost:8080/"
        },
        "id": "zpElIHCKmVhl",
        "outputId": "e1196866-cb28-46fc-deb1-1a4720d58a09"
      },
      "execution_count": 7,
      "outputs": [
        {
          "output_type": "stream",
          "name": "stdout",
          "text": [
            " 0.1488969326\n",
            " 0.1634652615\n"
          ]
        }
      ]
    },
    {
      "cell_type": "code",
      "source": [
        "import time\n",
        "import numpy as np\n",
        "\n",
        "torch_rand1 = torch.rand(100, 100, 100, 100).to(device)\n",
        "torch_rand2 = torch.rand(100, 100, 100, 100).to(device)\n",
        "\n",
        "np_rand1 = torch.rand(100, 100, 100, 100)\n",
        "np_rand2 = torch.rand(100, 100, 100, 100)\n",
        "\n",
        "start_time = time.time()\n",
        "\n",
        "#multiply in pytorch = use @\n",
        "torch_rand = (torch_rand1 @ torch_rand2)\n",
        "\n",
        "end_time = time.time()\n",
        "\n",
        "elapsed_time = end_time - start_time\n",
        "print(f\"{elapsed_time: .10f}\")\n",
        "\n",
        "########\n",
        "#test using numpy operation\n",
        "start_time = time.time()\n",
        "\n",
        "np_rand = np.multiply(np_rand1, np_rand2)\n",
        "\n",
        "end_time = time.time()\n",
        "\n",
        "elapsed_time = end_time - start_time\n",
        "print(f\"{elapsed_time: .10f}\")"
      ],
      "metadata": {
        "colab": {
          "base_uri": "https://localhost:8080/"
        },
        "id": "eNnzRC_RmYim",
        "outputId": "f49de93c-1bdb-40d8-b22e-f89436e61255"
      },
      "execution_count": 8,
      "outputs": [
        {
          "output_type": "stream",
          "name": "stdout",
          "text": [
            " 0.0081229210\n",
            " 0.2122986317\n"
          ]
        }
      ]
    },
    {
      "cell_type": "markdown",
      "source": [
        "# Other PyTorch functions"
      ],
      "metadata": {
        "id": "pX9H0yFlmlw8"
      }
    },
    {
      "cell_type": "code",
      "source": [
        "#torch.stack, torch.multinomial, torch.trill, torch.triu, input.T / input.transpose,\n",
        "#nn.linear, torch.cat (concatenate), F.softmax (show all the)\n"
      ],
      "metadata": {
        "id": "DItpqwzKms2D"
      },
      "execution_count": null,
      "outputs": []
    },
    {
      "cell_type": "code",
      "source": [
        "#Define a probability tensor\n",
        "probabilities = torch.tensor([0.1, 0.9])\n",
        "# 10% or 0.1 probability of 0\n",
        "# 90% or 0.9 probability of 1\n",
        "# Each probability points to the index of the probability in the tensor\n",
        "\n",
        "# Draw 5 samples from the multinomial distribution, based on the defined probability %\n",
        "samples = torch.multinomial (probabilities, num_samples=10, replacement=True)\n",
        "print(samples)\n",
        "#printing samples will have different results\n",
        "#e.g. 1st run gave an output of  tensor([1, 1, 1, 1, 1, 1, 1, 1, 1, 1])\n",
        "#e.g. 2nd run gave an output of  tensor([0, 1, 1, 0, 1, 1, 1, 1, 1, 1])\n",
        "\n",
        "# THIS WILL BE USED in predicting what word is going to come next"
      ],
      "metadata": {
        "colab": {
          "base_uri": "https://localhost:8080/"
        },
        "id": "udpPU3iYnPDU",
        "outputId": "3bb46a05-ae70-4d7f-c93c-c6352374ccb5"
      },
      "execution_count": 11,
      "outputs": [
        {
          "output_type": "stream",
          "name": "stdout",
          "text": [
            "tensor([0, 1, 1, 1, 0, 1, 1, 1, 1, 1])\n"
          ]
        }
      ]
    },
    {
      "cell_type": "code",
      "source": [
        "#concatenate two tensors\n",
        "#THIS WILL BE USED when generating a text given a context, so starting with\n",
        "\n",
        "tensor_concat1 = torch.tensor([1,2,3,4])\n",
        "out = torch.cat((tensor_concat1, torch.tensor([5, 6, 7])), dim=0)\n",
        "out"
      ],
      "metadata": {
        "colab": {
          "base_uri": "https://localhost:8080/"
        },
        "id": "ROYkJhqlogp5",
        "outputId": "d28a7582-22cb-4933-dd85-32191c89a0df"
      },
      "execution_count": 13,
      "outputs": [
        {
          "output_type": "execute_result",
          "data": {
            "text/plain": [
              "tensor([1, 2, 3, 4, 5, 6, 7])"
            ]
          },
          "metadata": {},
          "execution_count": 13
        }
      ]
    },
    {
      "cell_type": "code",
      "source": [
        "#concatenate\n",
        "\n",
        "tensor_concat1 = torch.tensor([[1,2],[3,4]])\n",
        "out1 = torch.cat((tensor_concat1, torch.tensor([[5, 6],[7,8]])), dim=0)\n",
        "out1"
      ],
      "metadata": {
        "colab": {
          "base_uri": "https://localhost:8080/"
        },
        "id": "ksGJ2_w2payJ",
        "outputId": "c51d4665-141a-4d61-b4e0-613955e3e985"
      },
      "execution_count": 20,
      "outputs": [
        {
          "output_type": "execute_result",
          "data": {
            "text/plain": [
              "tensor([[1, 2],\n",
              "        [3, 4],\n",
              "        [5, 6],\n",
              "        [7, 8]])"
            ]
          },
          "metadata": {},
          "execution_count": 20
        }
      ]
    },
    {
      "cell_type": "code",
      "source": [
        "#concatenate two tensors, according to defined dimension\n",
        "\n",
        "tensor_concat1 = torch.tensor([[1,2],[3,4]])\n",
        "out1 = torch.cat((tensor_concat1, torch.tensor([[5, 6],[7,8]])), dim=-1)\n",
        "out1"
      ],
      "metadata": {
        "colab": {
          "base_uri": "https://localhost:8080/"
        },
        "id": "7Y6TVtpuo8Q8",
        "outputId": "c3557faa-da47-487b-d28b-138e4b4a6e93"
      },
      "execution_count": 19,
      "outputs": [
        {
          "output_type": "execute_result",
          "data": {
            "text/plain": [
              "tensor([[1, 2, 5, 6],\n",
              "        [3, 4, 7, 8]])"
            ]
          },
          "metadata": {},
          "execution_count": 19
        }
      ]
    },
    {
      "cell_type": "code",
      "source": [
        "#tril\n",
        "# https://pytorch.org/docs/stable/generated/torch.tril.html\n",
        "# Returns the lower triangular part of the matrix (2-D tensor) or batch of matrices input,\n",
        "# the other elements of the result tensor out are set to 0.\n",
        "# The lower triangular part of the matrix is defined as the elements on and below the diagonal.\n",
        "\n",
        "print(f'{torch.ones(5,5)} \\n')\n",
        "\n",
        "out2 = torch.tril(torch.ones(5,5))\n",
        "out2"
      ],
      "metadata": {
        "colab": {
          "base_uri": "https://localhost:8080/"
        },
        "id": "cYXBMYJQrHcF",
        "outputId": "63fc50e3-3ed4-4f9e-8d07-fa610ce0a615"
      },
      "execution_count": 28,
      "outputs": [
        {
          "output_type": "stream",
          "name": "stdout",
          "text": [
            "tensor([[1., 1., 1., 1., 1.],\n",
            "        [1., 1., 1., 1., 1.],\n",
            "        [1., 1., 1., 1., 1.],\n",
            "        [1., 1., 1., 1., 1.],\n",
            "        [1., 1., 1., 1., 1.]]) \n",
            "\n"
          ]
        },
        {
          "output_type": "execute_result",
          "data": {
            "text/plain": [
              "tensor([[1., 0., 0., 0., 0.],\n",
              "        [1., 1., 0., 0., 0.],\n",
              "        [1., 1., 1., 0., 0.],\n",
              "        [1., 1., 1., 1., 0.],\n",
              "        [1., 1., 1., 1., 1.]])"
            ]
          },
          "metadata": {},
          "execution_count": 28
        }
      ]
    },
    {
      "cell_type": "code",
      "source": [
        "# triu\n",
        "# https://pytorch.org/docs/stable/generated/torch.triu.html#torch.triu\n",
        "# Returns the upper triangular part of a matrix (2-D tensor) or batch of matrices input, the other elements of the result tensor out are set to 0.\n",
        "# The upper triangular part of the matrix is defined as the elements on and above the diagonal.\n",
        "\n",
        "print(f'{torch.ones(5,5)} \\n')\n",
        "\n",
        "out3 = torch.triu(torch.ones(5,5))\n",
        "out3\n"
      ],
      "metadata": {
        "colab": {
          "base_uri": "https://localhost:8080/"
        },
        "id": "wgaCvx5awBA8",
        "outputId": "e714fcd7-70f4-4383-80ad-8afdc5b93d4f"
      },
      "execution_count": 29,
      "outputs": [
        {
          "output_type": "stream",
          "name": "stdout",
          "text": [
            "tensor([[1., 1., 1., 1., 1.],\n",
            "        [1., 1., 1., 1., 1.],\n",
            "        [1., 1., 1., 1., 1.],\n",
            "        [1., 1., 1., 1., 1.],\n",
            "        [1., 1., 1., 1., 1.]]) \n",
            "\n"
          ]
        },
        {
          "output_type": "execute_result",
          "data": {
            "text/plain": [
              "tensor([[1., 1., 1., 1., 1.],\n",
              "        [0., 1., 1., 1., 1.],\n",
              "        [0., 0., 1., 1., 1.],\n",
              "        [0., 0., 0., 1., 1.],\n",
              "        [0., 0., 0., 0., 1.]])"
            ]
          },
          "metadata": {},
          "execution_count": 29
        }
      ]
    },
    {
      "cell_type": "code",
      "source": [
        "#masked_fill\n",
        "#https://pytorch.org/docs/stable/generated/torch.Tensor.masked_fill_.html#torch.Tensor.masked_fill_\n",
        "#Fills elements of self tensor with value where mask is True.\n",
        "#The shape of mask must be broadcastable with the shape of the underlying tensor.\n",
        "\n",
        "out4 = torch.zeros(5,5).masked_fill(torch.tril(torch.ones(5,5)) == 0, float('-inf'))\n",
        "out4\n"
      ],
      "metadata": {
        "colab": {
          "base_uri": "https://localhost:8080/"
        },
        "id": "vefiVxbswnxi",
        "outputId": "a8d6c044-c5d1-4af8-b4a4-eb394170db04"
      },
      "execution_count": 30,
      "outputs": [
        {
          "output_type": "execute_result",
          "data": {
            "text/plain": [
              "tensor([[0., -inf, -inf, -inf, -inf],\n",
              "        [0., 0., -inf, -inf, -inf],\n",
              "        [0., 0., 0., -inf, -inf],\n",
              "        [0., 0., 0., 0., -inf],\n",
              "        [0., 0., 0., 0., 0.]])"
            ]
          },
          "metadata": {},
          "execution_count": 30
        }
      ]
    },
    {
      "cell_type": "code",
      "source": [
        "torch.exp(out4)"
      ],
      "metadata": {
        "colab": {
          "base_uri": "https://localhost:8080/"
        },
        "id": "i4Kgm7Tdx0kZ",
        "outputId": "1de84625-ed56-4033-e39a-2f33ac5a41ba"
      },
      "execution_count": 31,
      "outputs": [
        {
          "output_type": "execute_result",
          "data": {
            "text/plain": [
              "tensor([[1., 0., 0., 0., 0.],\n",
              "        [1., 1., 0., 0., 0.],\n",
              "        [1., 1., 1., 0., 0.],\n",
              "        [1., 1., 1., 1., 0.],\n",
              "        [1., 1., 1., 1., 1.]])"
            ]
          },
          "metadata": {},
          "execution_count": 31
        }
      ]
    },
    {
      "cell_type": "code",
      "source": [
        "#transpose\n",
        "# https://pytorch.org/docs/stable/generated/torch.transpose.html\n",
        "# The given dimensions dim0, dim1 (and dim2) are swapped.\n",
        "\n",
        "# 2 sets of 3-row x 4-column tensor\n",
        "input = torch.zeros(2,3,4)\n",
        "print(input, '\\n')\n",
        "\n",
        "out5 = input.transpose(0, 2)\n",
        "\n",
        "\n",
        "# 2 sets of 3-row x 4-column tensor\n",
        "print(out5, '\\n')\n",
        "print(out5.shape)"
      ],
      "metadata": {
        "colab": {
          "base_uri": "https://localhost:8080/"
        },
        "id": "FEp7SRT802ok",
        "outputId": "af7825a3-11ec-46fc-e7ee-2166e74204ba"
      },
      "execution_count": 34,
      "outputs": [
        {
          "output_type": "stream",
          "name": "stdout",
          "text": [
            "tensor([[[0., 0., 0., 0.],\n",
            "         [0., 0., 0., 0.],\n",
            "         [0., 0., 0., 0.]],\n",
            "\n",
            "        [[0., 0., 0., 0.],\n",
            "         [0., 0., 0., 0.],\n",
            "         [0., 0., 0., 0.]]]) \n",
            "\n",
            "tensor([[[0., 0.],\n",
            "         [0., 0.],\n",
            "         [0., 0.]],\n",
            "\n",
            "        [[0., 0.],\n",
            "         [0., 0.],\n",
            "         [0., 0.]],\n",
            "\n",
            "        [[0., 0.],\n",
            "         [0., 0.],\n",
            "         [0., 0.]],\n",
            "\n",
            "        [[0., 0.],\n",
            "         [0., 0.],\n",
            "         [0., 0.]]]) \n",
            "\n",
            "torch.Size([4, 3, 2])\n"
          ]
        }
      ]
    },
    {
      "cell_type": "markdown",
      "source": [],
      "metadata": {
        "id": "BB_apBpUIhOs"
      }
    },
    {
      "cell_type": "code",
      "source": [
        "#stack\n",
        "# https://pytorch.org/docs/stable/generated/torch.stack.html#torch-stack\n",
        "# Concatenates a sequence of tensors along a new dimension.\n",
        "# All tensors need to be of the same size.\n",
        "\n",
        "# Parameters\n",
        "# - tensors (sequence of Tensors) – sequence of tensors to concatenate\n",
        "# - dim (int, optional) – dimension to insert. Has to be between 0 and the number of dimensions of concatenated tensors (inclusive).\n",
        "# Default: 0\n",
        "\n",
        "# Keyword Arguments\n",
        "# - out (Tensor, optional) – the output tensor.\n",
        "\n",
        "import torch\n",
        "\n",
        "tensor1 = torch.tensor([1,2,3])\n",
        "tensor2 = torch.tensor([4,5,6])\n",
        "tensor3 = torch.tensor([7,8,9])\n",
        "\n",
        "#\"stack\" the tensors along a new dimension\n",
        "out6 = torch.stack([tensor1, tensor2, tensor3])\n",
        "out6\n"
      ],
      "metadata": {
        "colab": {
          "base_uri": "https://localhost:8080/"
        },
        "id": "8cR24knrIonr",
        "outputId": "bde16904-5b53-41c1-b1d5-6cd34ea787e7"
      },
      "execution_count": 2,
      "outputs": [
        {
          "output_type": "execute_result",
          "data": {
            "text/plain": [
              "tensor([[1, 2, 3],\n",
              "        [4, 5, 6],\n",
              "        [7, 8, 9]])"
            ]
          },
          "metadata": {},
          "execution_count": 2
        }
      ]
    },
    {
      "cell_type": "code",
      "source": [
        "# https://pytorch.org/docs/stable/nn.functional.html\n",
        "\n",
        "\n",
        "import torch.nn as nn\n",
        "sample = torch.tensor ([10., 10., 10.])\n",
        "\n",
        "linear = nn.Linear(3, 3, bias=False)\n",
        "print(linear(sample))"
      ],
      "metadata": {
        "colab": {
          "base_uri": "https://localhost:8080/"
        },
        "id": "ZIK4EuN1JiRp",
        "outputId": "f77daa23-07d6-46b7-e4d1-df7b11037d14"
      },
      "execution_count": 4,
      "outputs": [
        {
          "output_type": "stream",
          "name": "stdout",
          "text": [
            "tensor([ 2.5679,  8.6967, -6.2822], grad_fn=<SqueezeBackward4>)\n"
          ]
        }
      ]
    },
    {
      "cell_type": "markdown",
      "source": [
        "# SoftMax Function  \n",
        "\n",
        "https://en.wikipedia.org/wiki/Softmax_function"
      ],
      "metadata": {
        "id": "xt97T7jKNMsl"
      }
    },
    {
      "cell_type": "markdown",
      "source": [
        "# Embedding Vectors\n",
        "\n"
      ],
      "metadata": {
        "id": "FfvEqVkmhTmZ"
      }
    },
    {
      "cell_type": "code",
      "source": [
        "#https://pytorch.org/docs/stable/nn.functional.html\n",
        "#https://en.wikipedia.org/wiki/Softmax_function\n",
        "\n",
        "import torch.nn.functional as F\n",
        "\n",
        "#create a tensor\n",
        "tensor_a = torch.tensor([1.0, 2.0, 3.0])\n",
        "\n",
        "#Apply softmax using torch.nn.functional.softmax()\n",
        "softmax_output = F.softmax(tensor_a, dim=0)\n",
        "\n",
        "print(softmax_output)"
      ],
      "metadata": {
        "colab": {
          "base_uri": "https://localhost:8080/"
        },
        "id": "2XgSDPElKL56",
        "outputId": "c1607735-b816-48a9-de2a-513cd7728e92"
      },
      "execution_count": 7,
      "outputs": [
        {
          "output_type": "stream",
          "name": "stdout",
          "text": [
            "tensor([0.0900, 0.2447, 0.6652])\n"
          ]
        }
      ]
    },
    {
      "cell_type": "markdown",
      "source": [
        "Derive the answer ^ as iterated below\n",
        "\n",
        "https://en.wikipedia.org/wiki/Exponential_function\n",
        "https://en.wikipedia.org/wiki/E_(mathematical_constant)\n"
      ],
      "metadata": {
        "id": "sZiLOhcPh0-7"
      }
    },
    {
      "cell_type": "code",
      "source": [
        "2.71828 ** 1"
      ],
      "metadata": {
        "colab": {
          "base_uri": "https://localhost:8080/"
        },
        "id": "TxZtRGZFiFaS",
        "outputId": "32c222f1-05db-48b8-812a-1c26bf5cca86"
      },
      "execution_count": 8,
      "outputs": [
        {
          "output_type": "execute_result",
          "data": {
            "text/plain": [
              "2.71828"
            ]
          },
          "metadata": {},
          "execution_count": 8
        }
      ]
    },
    {
      "cell_type": "code",
      "source": [
        "2.71828 ** 2"
      ],
      "metadata": {
        "colab": {
          "base_uri": "https://localhost:8080/"
        },
        "id": "2p-evHYbiP_y",
        "outputId": "5556e440-50d8-4497-8f25-87dbd4cc5698"
      },
      "execution_count": 9,
      "outputs": [
        {
          "output_type": "execute_result",
          "data": {
            "text/plain": [
              "7.3890461584"
            ]
          },
          "metadata": {},
          "execution_count": 9
        }
      ]
    },
    {
      "cell_type": "code",
      "source": [
        "2.71828 ** 3"
      ],
      "metadata": {
        "colab": {
          "base_uri": "https://localhost:8080/"
        },
        "id": "NBwUrxApiS9G",
        "outputId": "489c8ade-25d1-466c-dad3-70e3a0862211"
      },
      "execution_count": 10,
      "outputs": [
        {
          "output_type": "execute_result",
          "data": {
            "text/plain": [
              "20.085496391455553"
            ]
          },
          "metadata": {},
          "execution_count": 10
        }
      ]
    },
    {
      "cell_type": "code",
      "source": [
        "(2.71828 ** 1) + (2.71828 ** 2) + (2.71828 ** 3)"
      ],
      "metadata": {
        "colab": {
          "base_uri": "https://localhost:8080/"
        },
        "id": "pxtedKrIiUwE",
        "outputId": "2b9e5d8f-14a6-4cc2-9f1a-0895276c26a1"
      },
      "execution_count": 11,
      "outputs": [
        {
          "output_type": "execute_result",
          "data": {
            "text/plain": [
              "30.192822549855553"
            ]
          },
          "metadata": {},
          "execution_count": 11
        }
      ]
    },
    {
      "cell_type": "code",
      "source": [
        "(2.71828 ** 1) / ((2.71828 ** 1) + (2.71828 ** 2) + (2.71828 ** 3))"
      ],
      "metadata": {
        "colab": {
          "base_uri": "https://localhost:8080/"
        },
        "id": "P9WcD36SidBZ",
        "outputId": "c45e5a89-f42b-437e-de64-8a67c7d540bc"
      },
      "execution_count": 12,
      "outputs": [
        {
          "output_type": "execute_result",
          "data": {
            "text/plain": [
              "0.09003066856407582"
            ]
          },
          "metadata": {},
          "execution_count": 12
        }
      ]
    },
    {
      "cell_type": "code",
      "source": [
        "(2.71828 ** 2) / ((2.71828 ** 1) + (2.71828 ** 2) + (2.71828 ** 3))"
      ],
      "metadata": {
        "colab": {
          "base_uri": "https://localhost:8080/"
        },
        "id": "AJXmvBomip_R",
        "outputId": "bb9bcbfa-a1dc-46be-894a-def4890e9189"
      },
      "execution_count": 13,
      "outputs": [
        {
          "output_type": "execute_result",
          "data": {
            "text/plain": [
              "0.24472856574435603"
            ]
          },
          "metadata": {},
          "execution_count": 13
        }
      ]
    },
    {
      "cell_type": "code",
      "source": [
        "(2.71828 ** 3) / ((2.71828 ** 1) + (2.71828 ** 2) + (2.71828 ** 3))"
      ],
      "metadata": {
        "colab": {
          "base_uri": "https://localhost:8080/"
        },
        "id": "8fZv9-psivxk",
        "outputId": "e95b39ad-860a-4126-d24f-af02751e0ea9"
      },
      "execution_count": 14,
      "outputs": [
        {
          "output_type": "execute_result",
          "data": {
            "text/plain": [
              "0.6652407656915682"
            ]
          },
          "metadata": {},
          "execution_count": 14
        }
      ]
    },
    {
      "cell_type": "markdown",
      "source": [
        "# Embedding implementation\n",
        "\n",
        "nn.Embedding\n",
        "https://pytorch.org/docs/stable/generated/torch.nn.Embedding.html"
      ],
      "metadata": {
        "id": "iljB_FUblyrh"
      }
    },
    {
      "cell_type": "code",
      "source": [
        "import torch\n",
        "import torch.nn as nn\n",
        "\n",
        "#Initialize and embedding layer\n",
        "vocab_size = 1000\n",
        "embedding_dim = 100\n",
        "embedding = nn.Embedding(vocab_size, embedding_dim)\n",
        "\n",
        "#Create some input indices\n",
        "input_indices = torch.LongTensor([1, 5, 3, 2])\n",
        "\n",
        "#Apply the embedding layer to the input indices\n",
        "embedded_vectors = embedding(input_indices)\n",
        "\n",
        "#The output will be a tensor of shape (4,100), where 4 is the number of inputs\n",
        "#and 100 is the dimensionality of embedding vectors\n",
        "print(embedded_vectors)\n"
      ],
      "metadata": {
        "colab": {
          "base_uri": "https://localhost:8080/"
        },
        "id": "h98CJNY6mBE7",
        "outputId": "d30701a3-9f56-4944-c3c1-162cc6669951"
      },
      "execution_count": 16,
      "outputs": [
        {
          "output_type": "stream",
          "name": "stdout",
          "text": [
            "tensor([[-1.9018e+00, -1.0707e+00, -4.7601e-01,  1.2911e-01, -1.3721e+00,\n",
            "          7.6799e-01,  2.0353e-01, -1.1119e+00, -6.7531e-01,  7.4667e-01,\n",
            "          3.1706e-01, -3.5495e-02,  9.4211e-01,  5.8512e-01,  5.9037e-01,\n",
            "          5.5636e-01,  1.3078e+00, -1.5854e+00,  6.8964e-01, -2.4030e+00,\n",
            "         -1.0339e+00,  2.5348e-01,  6.8438e-01,  9.9557e-01, -1.2921e+00,\n",
            "         -2.6589e-01,  2.1327e+00,  4.1655e-01, -1.1786e+00, -1.1048e+00,\n",
            "          5.1968e-03, -6.5262e-01, -5.4760e-02,  2.1193e-01,  9.8918e-01,\n",
            "         -1.8691e+00,  1.0425e-01,  5.9456e-01, -2.0874e-01,  1.9309e-01,\n",
            "          1.0327e+00, -7.2936e-01,  1.2741e+00,  3.9153e-01, -5.9359e-02,\n",
            "          5.7162e-01, -6.4707e-01, -2.2144e-01, -1.1869e+00, -2.0821e-01,\n",
            "          7.8681e-01, -1.9018e+00,  5.0567e-01, -3.4852e-01,  1.9538e+00,\n",
            "         -3.0806e-01,  4.9949e-01, -6.6990e-01, -1.6965e+00, -7.7984e-01,\n",
            "         -1.0799e+00,  1.2261e+00,  9.7056e-01, -9.8540e-01, -1.2198e+00,\n",
            "         -1.7279e+00, -4.0260e-01, -2.5608e-01, -4.4217e-01,  8.5325e-01,\n",
            "         -1.0383e+00,  2.6579e-02, -7.8953e-01, -6.9415e-01, -1.7225e+00,\n",
            "          2.8969e-01,  8.7452e-01, -7.0920e-01,  8.8580e-01, -6.0110e-01,\n",
            "         -6.4890e-01, -6.8897e-01,  5.8779e-01, -9.3259e-01, -5.6732e-01,\n",
            "          1.1023e+00, -1.4898e+00,  9.2322e-01, -5.5953e-01, -5.7758e-01,\n",
            "         -3.6521e-01,  1.0249e+00,  1.9011e+00,  1.6487e+00, -2.8054e-01,\n",
            "         -6.8728e-01,  5.8597e-01, -3.6436e-01, -9.8881e-01,  1.0129e+00],\n",
            "        [-4.2359e-01, -3.3994e-01, -1.4605e+00,  7.5486e-01,  5.5021e-01,\n",
            "          2.2072e-01,  4.6799e-02,  5.4706e-01,  3.4620e-02,  1.4740e+00,\n",
            "          8.9120e-01, -4.6370e-01,  3.8168e-02, -1.7927e+00,  1.3655e+00,\n",
            "          1.1564e+00,  1.1441e+00,  5.4653e-01, -8.5267e-01,  6.6248e-01,\n",
            "         -2.4026e-01, -1.3364e+00,  6.3556e-01,  1.8166e+00,  5.0930e-01,\n",
            "         -8.8177e-01,  2.8816e-01,  8.1063e-01, -7.3798e-01, -2.9173e+00,\n",
            "         -7.7027e-01, -9.0506e-01, -6.6229e-01,  4.5472e-01,  7.8548e-01,\n",
            "         -2.4505e-01, -3.4622e-01,  6.1596e-01, -7.6481e-01, -8.4532e-01,\n",
            "         -1.4108e+00,  4.6120e-01, -1.7335e+00, -3.8020e-01, -3.3187e-01,\n",
            "          1.9079e+00, -7.2226e-02, -4.9113e-01,  2.4705e+00,  1.9756e+00,\n",
            "          7.7655e-01,  5.7493e-01, -5.1544e-01, -1.1780e+00, -3.7376e-01,\n",
            "          8.5837e-01,  1.9524e+00,  7.9667e-01,  8.6189e-01, -8.7084e-02,\n",
            "         -2.1997e-01,  3.9864e-01,  1.0358e+00, -6.5431e-01, -5.4409e-01,\n",
            "          2.0359e+00,  2.0749e+00, -9.3549e-01, -1.3095e-01, -1.0791e+00,\n",
            "         -2.9381e-02, -4.1777e-01,  5.8356e-01, -1.6386e+00,  1.3961e+00,\n",
            "          6.0533e-01,  1.1949e+00,  2.0902e+00,  2.0829e-02, -7.7400e-01,\n",
            "          8.0989e-01,  1.2147e+00,  1.3883e-03,  7.4281e-01,  8.7303e-01,\n",
            "          2.5817e-01, -2.7277e-01, -9.5644e-01, -8.0324e-01,  8.6813e-01,\n",
            "          1.8118e+00, -6.8899e-01,  5.2848e-01, -3.4623e-01,  5.5301e-01,\n",
            "         -2.3191e+00, -1.7369e-01, -1.1655e+00,  8.0183e-01, -1.2828e+00],\n",
            "        [ 4.9792e-01, -8.7234e-01, -6.7528e-01, -3.6451e-01, -6.3171e-01,\n",
            "         -4.7379e-01,  1.2399e+00,  1.0541e+00, -4.4236e-01,  1.5524e+00,\n",
            "         -3.8027e-01,  1.9984e+00, -7.8950e-01,  1.0858e+00,  8.6526e-01,\n",
            "         -3.4467e-01,  1.8310e-01,  1.0736e-01,  6.0035e-01,  5.2352e-01,\n",
            "         -3.1637e-01,  6.0301e-01, -5.5093e-01,  5.5215e-01, -9.7502e-01,\n",
            "         -1.3935e+00,  1.2677e+00, -1.1819e+00, -4.8550e-01, -1.5053e+00,\n",
            "          1.4631e+00,  4.8325e-01, -2.5227e-01, -1.7268e-01, -9.4176e-01,\n",
            "          4.3896e-01, -1.9860e+00,  6.3904e-01,  2.5620e+00, -1.4558e+00,\n",
            "          3.0552e-01,  5.7533e-03, -8.2794e-02, -2.5799e-01, -1.3323e+00,\n",
            "          1.6045e-01, -3.5230e-01,  9.5687e-01, -3.4346e-01,  8.3527e-01,\n",
            "         -1.5139e-01,  1.3672e-01,  3.5198e-01,  6.0301e-01,  8.8880e-02,\n",
            "          6.5776e-02, -1.5374e-01, -2.1777e-01,  1.8937e+00, -2.5081e-02,\n",
            "          6.6352e-01,  6.1844e-01,  4.2419e-01, -5.0039e-01, -2.6130e-01,\n",
            "         -9.9501e-01,  3.8392e-01, -1.2983e+00,  5.7069e-01,  2.0837e+00,\n",
            "          2.2404e+00, -6.0542e-01,  2.1882e+00, -8.6651e-01,  7.9521e-01,\n",
            "          1.5095e-01, -5.6632e-01,  5.8903e-01, -6.4609e-01,  1.0678e+00,\n",
            "          4.5673e-01,  1.2214e+00, -1.2593e-01,  8.2891e-01,  1.4623e+00,\n",
            "         -8.8809e-01,  1.1949e+00,  4.7683e-01, -7.6105e-01,  1.5704e+00,\n",
            "         -1.1000e+00, -8.3259e-01,  4.4035e-01,  6.3208e-01, -4.7911e-01,\n",
            "         -5.5870e-01,  9.4320e-01, -1.1970e+00, -1.0596e+00,  1.6638e+00],\n",
            "        [ 1.4346e-01, -8.1830e-01, -4.6352e-03, -3.9078e-01, -1.2701e+00,\n",
            "         -2.6043e+00, -4.5372e-01,  1.7980e+00, -5.4870e-02,  4.9185e-01,\n",
            "          4.8087e-01,  1.7189e+00,  1.2760e+00,  1.8336e+00,  2.9107e-01,\n",
            "          3.6663e-01, -9.5710e-01, -6.6468e-01,  1.7386e-01, -1.4304e+00,\n",
            "         -9.3226e-01, -2.9152e-01, -2.9483e+00, -5.3956e-01,  1.7406e+00,\n",
            "         -2.2208e-01, -3.4333e-01, -4.2890e-01, -8.2808e-01, -9.6548e-01,\n",
            "          2.0336e+00, -3.9052e-02, -8.5920e-01,  1.0129e-01, -1.5496e-02,\n",
            "         -6.0366e-01, -1.9069e-01,  4.4693e-01,  2.6909e-01, -3.8912e-01,\n",
            "         -2.2029e+00,  1.7818e+00,  9.8798e-01,  1.2394e+00, -4.0719e-01,\n",
            "          2.9836e-01,  9.3319e-01,  1.4584e+00, -2.5210e+00, -7.9058e-01,\n",
            "          2.0935e-01, -1.0101e+00, -5.7308e-01, -1.4115e+00,  1.9332e-01,\n",
            "         -7.7050e-01, -6.4990e-01,  1.4792e-01,  3.7346e-01, -1.1439e+00,\n",
            "          1.2140e+00, -1.1801e+00, -1.0059e+00,  2.3890e-01,  1.8816e-01,\n",
            "         -1.8742e+00,  4.2471e-01, -6.9933e-01, -2.1271e-01,  1.1110e+00,\n",
            "         -2.2346e+00,  8.2625e-01,  2.1904e-02, -9.9830e-01, -1.0063e+00,\n",
            "          7.7977e-01,  1.9306e+00, -4.0453e-01, -1.0696e-02, -4.1653e-01,\n",
            "         -4.6007e-01,  5.0336e-01, -5.7464e-01,  1.2072e+00,  8.9775e-02,\n",
            "         -1.1940e+00,  8.7225e-01, -1.0766e+00,  4.4741e-01, -2.0212e-01,\n",
            "          1.6688e-01,  2.3326e-01, -8.5700e-01,  4.5109e-01,  9.8915e-02,\n",
            "          1.3355e+00,  3.0419e-01, -7.0477e-01, -1.9316e+00, -5.5952e-03]],\n",
            "       grad_fn=<EmbeddingBackward0>)\n"
          ]
        }
      ]
    },
    {
      "cell_type": "code",
      "source": [
        "print(embedded_vectors.shape)"
      ],
      "metadata": {
        "colab": {
          "base_uri": "https://localhost:8080/"
        },
        "id": "FJLlCZRzmqJh",
        "outputId": "a470cebb-03dc-4bfa-f0fd-fe9ebf1398b2"
      },
      "execution_count": 17,
      "outputs": [
        {
          "output_type": "stream",
          "name": "stdout",
          "text": [
            "torch.Size([4, 100])\n"
          ]
        }
      ]
    },
    {
      "cell_type": "markdown",
      "source": [
        "Matrix multiplication"
      ],
      "metadata": {
        "id": "NEPHwffOnzbP"
      }
    },
    {
      "cell_type": "code",
      "source": [
        "#matrix multiplication\n",
        "\n",
        "a = torch.tensor([[1,2], [3,4], [5,6]])\n",
        "b = torch.tensor([[7,8,9], [10,11,12]])\n",
        "print(a @ b)"
      ],
      "metadata": {
        "colab": {
          "base_uri": "https://localhost:8080/"
        },
        "id": "R8Bz1k9cmyX5",
        "outputId": "918b3faa-ee71-4246-9879-dccab4a022f6"
      },
      "execution_count": 18,
      "outputs": [
        {
          "output_type": "stream",
          "name": "stdout",
          "text": [
            "tensor([[ 27,  30,  33],\n",
            "        [ 61,  68,  75],\n",
            "        [ 95, 106, 117]])\n"
          ]
        }
      ]
    },
    {
      "cell_type": "markdown",
      "source": [
        "First, we need to make sure that the matrices can be multiplied together, e.g. #columns ==  # rows\n",
        "such as in :\n",
        "- matrix a (3 rows x 2 cols)\n",
        "- matrix b (2 rows x 3 cols)\n",
        "and the resulting matrix is 3 rows x 3 cols.\n",
        "\n",
        "(1 * 7) + (2 * 10) = 27\n",
        "(1 * 8) + (2 * 11) = 30\n",
        "(1 * 9) + (2 * 12) = 33\n",
        "(3 * 7) + (4 * 10) = 47\n",
        "(3 * 8) + (4 * 11) = 68\n",
        "(3 * 9) + (4 * 12) = 75\n",
        "(5 * 7) + (6 * 10) = 95\n",
        "(5 * 8) + (6 * 11) = 106\n",
        "(5 * 9) + (6 * 12) = 117\n",
        "\n"
      ],
      "metadata": {
        "id": "zbf90O5Cok6d"
      }
    },
    {
      "cell_type": "code",
      "source": [
        "print(torch.matmul(a,b))"
      ],
      "metadata": {
        "colab": {
          "base_uri": "https://localhost:8080/"
        },
        "id": "ZJe4ZPeGy1BS",
        "outputId": "91bc301f-bfa9-4d56-fb9b-c551664ed7d7"
      },
      "execution_count": 26,
      "outputs": [
        {
          "output_type": "stream",
          "name": "stdout",
          "text": [
            "tensor([[ 27,  30,  33],\n",
            "        [ 61,  68,  75],\n",
            "        [ 95, 106, 117]])\n"
          ]
        }
      ]
    },
    {
      "cell_type": "code",
      "source": [
        "c = torch.tensor([1,2,3])\n",
        "d = torch.tensor([4,5,6])\n",
        "print(c @ d)"
      ],
      "metadata": {
        "colab": {
          "base_uri": "https://localhost:8080/"
        },
        "id": "ogaLvLH9n22t",
        "outputId": "8b2f9e76-ab09-4d55-d0f8-000d8998d1a1"
      },
      "execution_count": 20,
      "outputs": [
        {
          "output_type": "stream",
          "name": "stdout",
          "text": [
            "tensor(32)\n"
          ]
        }
      ]
    },
    {
      "cell_type": "markdown",
      "source": [
        "This can be derived manually:\n",
        "\n",
        "(1 * 4) + (2 * 5) + (3 * 6) = 4 + 10 + 18 = 32\n"
      ],
      "metadata": {
        "id": "D2awqlhPoJxp"
      }
    },
    {
      "cell_type": "code",
      "source": [
        "#matrix multiplication\n",
        "\n",
        "e = torch.tensor([[1,2,7], [3,4,1], [5,6,1], [6,8,9], [2,4,8]])\n",
        "f = torch.tensor([[7,8,9,1], [10,11,12,15], [1,3,5,7]])\n",
        "print(e @ f)"
      ],
      "metadata": {
        "colab": {
          "base_uri": "https://localhost:8080/"
        },
        "id": "2yohT5Vqocsn",
        "outputId": "8b05115e-8848-4138-e623-fc6222521e24"
      },
      "execution_count": 21,
      "outputs": [
        {
          "output_type": "stream",
          "name": "stdout",
          "text": [
            "tensor([[ 34,  51,  68,  80],\n",
            "        [ 62,  71,  80,  70],\n",
            "        [ 96, 109, 122, 102],\n",
            "        [131, 163, 195, 189],\n",
            "        [ 62,  84, 106, 118]])\n"
          ]
        }
      ]
    },
    {
      "cell_type": "markdown",
      "source": [
        "First, we need to make sure that the matrices can be multiplied together, e.g. #columns == # rows such as in :\n",
        "\n",
        " - matrix e (5 rows x 3 cols)\n",
        " - matrix f (3 rows x 4 cols)\n",
        "\n",
        "and the resulting matrix is 5 rows x 4 cols"
      ],
      "metadata": {
        "id": "Z3Dkluo8qFXz"
      }
    },
    {
      "cell_type": "code",
      "source": [
        "#sample of incompatible matrices for multiplication\n",
        "\n",
        "g = torch.tensor([[6,8,9], [2,4,8]])\n",
        "h = torch.tensor([[7,8,9,1], [10,11,12,15]])\n",
        "print(g @ h)"
      ],
      "metadata": {
        "colab": {
          "base_uri": "https://localhost:8080/",
          "height": 176
        },
        "id": "OKtjQzEpqf-o",
        "outputId": "0eff216c-ca07-493f-f46c-dcda7ae115b8"
      },
      "execution_count": 24,
      "outputs": [
        {
          "output_type": "error",
          "ename": "RuntimeError",
          "evalue": "mat1 and mat2 shapes cannot be multiplied (2x3 and 2x4)",
          "traceback": [
            "\u001b[0;31m---------------------------------------------------------------------------\u001b[0m",
            "\u001b[0;31mRuntimeError\u001b[0m                              Traceback (most recent call last)",
            "\u001b[0;32m<ipython-input-24-89b3801ca434>\u001b[0m in \u001b[0;36m<cell line: 5>\u001b[0;34m()\u001b[0m\n\u001b[1;32m      3\u001b[0m \u001b[0mg\u001b[0m \u001b[0;34m=\u001b[0m \u001b[0mtorch\u001b[0m\u001b[0;34m.\u001b[0m\u001b[0mtensor\u001b[0m\u001b[0;34m(\u001b[0m\u001b[0;34m[\u001b[0m\u001b[0;34m[\u001b[0m\u001b[0;36m6\u001b[0m\u001b[0;34m,\u001b[0m\u001b[0;36m8\u001b[0m\u001b[0;34m,\u001b[0m\u001b[0;36m9\u001b[0m\u001b[0;34m]\u001b[0m\u001b[0;34m,\u001b[0m \u001b[0;34m[\u001b[0m\u001b[0;36m2\u001b[0m\u001b[0;34m,\u001b[0m\u001b[0;36m4\u001b[0m\u001b[0;34m,\u001b[0m\u001b[0;36m8\u001b[0m\u001b[0;34m]\u001b[0m\u001b[0;34m]\u001b[0m\u001b[0;34m)\u001b[0m\u001b[0;34m\u001b[0m\u001b[0;34m\u001b[0m\u001b[0m\n\u001b[1;32m      4\u001b[0m \u001b[0mh\u001b[0m \u001b[0;34m=\u001b[0m \u001b[0mtorch\u001b[0m\u001b[0;34m.\u001b[0m\u001b[0mtensor\u001b[0m\u001b[0;34m(\u001b[0m\u001b[0;34m[\u001b[0m\u001b[0;34m[\u001b[0m\u001b[0;36m7\u001b[0m\u001b[0;34m,\u001b[0m\u001b[0;36m8\u001b[0m\u001b[0;34m,\u001b[0m\u001b[0;36m9\u001b[0m\u001b[0;34m,\u001b[0m\u001b[0;36m1\u001b[0m\u001b[0;34m]\u001b[0m\u001b[0;34m,\u001b[0m \u001b[0;34m[\u001b[0m\u001b[0;36m10\u001b[0m\u001b[0;34m,\u001b[0m\u001b[0;36m11\u001b[0m\u001b[0;34m,\u001b[0m\u001b[0;36m12\u001b[0m\u001b[0;34m,\u001b[0m\u001b[0;36m15\u001b[0m\u001b[0;34m]\u001b[0m\u001b[0;34m]\u001b[0m\u001b[0;34m)\u001b[0m\u001b[0;34m\u001b[0m\u001b[0;34m\u001b[0m\u001b[0m\n\u001b[0;32m----> 5\u001b[0;31m \u001b[0mprint\u001b[0m\u001b[0;34m(\u001b[0m\u001b[0mg\u001b[0m \u001b[0;34m@\u001b[0m \u001b[0mh\u001b[0m\u001b[0;34m)\u001b[0m\u001b[0;34m\u001b[0m\u001b[0;34m\u001b[0m\u001b[0m\n\u001b[0m",
            "\u001b[0;31mRuntimeError\u001b[0m: mat1 and mat2 shapes cannot be multiplied (2x3 and 2x4)"
          ]
        }
      ]
    },
    {
      "cell_type": "markdown",
      "source": [
        "^ as expected, an error is raised:\n",
        "\n",
        "*RuntimeError: mat1 and mat2 shapes cannot be multiplied (2x3 and 2x4)*"
      ],
      "metadata": {
        "id": "2iAGL_c1rBid"
      }
    },
    {
      "cell_type": "markdown",
      "source": [
        "# Integer vs Float\n",
        "\n",
        "In PyTorch, Integers and Float numbers cannot be multiplied together, as those are considered different data types.\n",
        "\n",
        "To prove this, let's try to multiply a generated matrix with int and another matrix with float values\n"
      ],
      "metadata": {
        "id": "X5F9KxFB1pEU"
      }
    },
    {
      "cell_type": "code",
      "source": [
        "int_64 = torch.randint(1,(3,2))\n",
        "print(int_64)\n",
        "\n",
        "float_32 = torch.rand((2,3))\n",
        "print(float_32)\n",
        "\n",
        "print(int_64 @ float_32)"
      ],
      "metadata": {
        "colab": {
          "base_uri": "https://localhost:8080/",
          "height": 263
        },
        "id": "iblgGo8ArJpi",
        "outputId": "cc771a63-6818-4353-84aa-2564aee05d77"
      },
      "execution_count": 30,
      "outputs": [
        {
          "output_type": "stream",
          "name": "stdout",
          "text": [
            "tensor([[0, 0],\n",
            "        [0, 0],\n",
            "        [0, 0]])\n",
            "tensor([[0.4181, 0.1091, 0.9933],\n",
            "        [0.2181, 0.1574, 0.6342]])\n"
          ]
        },
        {
          "output_type": "error",
          "ename": "RuntimeError",
          "evalue": "expected m1 and m2 to have the same dtype, but got: long int != float",
          "traceback": [
            "\u001b[0;31m---------------------------------------------------------------------------\u001b[0m",
            "\u001b[0;31mRuntimeError\u001b[0m                              Traceback (most recent call last)",
            "\u001b[0;32m<ipython-input-30-6eeac20b8cdc>\u001b[0m in \u001b[0;36m<cell line: 7>\u001b[0;34m()\u001b[0m\n\u001b[1;32m      5\u001b[0m \u001b[0mprint\u001b[0m\u001b[0;34m(\u001b[0m\u001b[0mfloat_32\u001b[0m\u001b[0;34m)\u001b[0m\u001b[0;34m\u001b[0m\u001b[0;34m\u001b[0m\u001b[0m\n\u001b[1;32m      6\u001b[0m \u001b[0;34m\u001b[0m\u001b[0m\n\u001b[0;32m----> 7\u001b[0;31m \u001b[0mprint\u001b[0m\u001b[0;34m(\u001b[0m\u001b[0mint_64\u001b[0m \u001b[0;34m@\u001b[0m \u001b[0mfloat_32\u001b[0m\u001b[0;34m)\u001b[0m\u001b[0;34m\u001b[0m\u001b[0;34m\u001b[0m\u001b[0m\n\u001b[0m",
            "\u001b[0;31mRuntimeError\u001b[0m: expected m1 and m2 to have the same dtype, but got: long int != float"
          ]
        }
      ]
    },
    {
      "cell_type": "code",
      "source": [
        "print(torch.matmul(int_64, float_32))"
      ],
      "metadata": {
        "colab": {
          "base_uri": "https://localhost:8080/",
          "height": 141
        },
        "id": "JFGyltXq14oV",
        "outputId": "acbbbb9e-2d1d-4111-92f9-41cb0644c868"
      },
      "execution_count": 29,
      "outputs": [
        {
          "output_type": "error",
          "ename": "RuntimeError",
          "evalue": "expected m1 and m2 to have the same dtype, but got: long int != float",
          "traceback": [
            "\u001b[0;31m---------------------------------------------------------------------------\u001b[0m",
            "\u001b[0;31mRuntimeError\u001b[0m                              Traceback (most recent call last)",
            "\u001b[0;32m<ipython-input-29-2adc03348d52>\u001b[0m in \u001b[0;36m<cell line: 1>\u001b[0;34m()\u001b[0m\n\u001b[0;32m----> 1\u001b[0;31m \u001b[0mprint\u001b[0m\u001b[0;34m(\u001b[0m\u001b[0mtorch\u001b[0m\u001b[0;34m.\u001b[0m\u001b[0mmatmul\u001b[0m\u001b[0;34m(\u001b[0m\u001b[0mint_64\u001b[0m\u001b[0;34m,\u001b[0m \u001b[0mfloat_32\u001b[0m\u001b[0;34m)\u001b[0m\u001b[0;34m)\u001b[0m\u001b[0;34m\u001b[0m\u001b[0;34m\u001b[0m\u001b[0m\n\u001b[0m",
            "\u001b[0;31mRuntimeError\u001b[0m: expected m1 and m2 to have the same dtype, but got: long int != float"
          ]
        }
      ]
    },
    {
      "cell_type": "markdown",
      "source": [
        "^ In either multiplication commands, the error is the same:\n",
        "*RuntimeError: expected m1 and m2 to have the same dtype, but got: long int != float*"
      ],
      "metadata": {
        "id": "6VeiowXn2QmW"
      }
    },
    {
      "cell_type": "markdown",
      "source": [
        "In order to fix, cast the random integers into float by this code:\n"
      ],
      "metadata": {
        "id": "lnXUMEQC26L0"
      }
    },
    {
      "cell_type": "code",
      "source": [
        "int_64_float = torch.randint(1,(3,2)).float()\n",
        "print(int_64)\n",
        "\n",
        "float_32 = torch.rand((2,3))\n",
        "print(float_32)\n",
        "\n",
        "print(int_64_float @ float_32)"
      ],
      "metadata": {
        "colab": {
          "base_uri": "https://localhost:8080/"
        },
        "id": "GpHLBCss2V2F",
        "outputId": "914f348a-8469-456a-9e39-efd3ffc91651"
      },
      "execution_count": 31,
      "outputs": [
        {
          "output_type": "stream",
          "name": "stdout",
          "text": [
            "tensor([[0, 0],\n",
            "        [0, 0],\n",
            "        [0, 0]])\n",
            "tensor([[0.4428, 0.9933, 0.7002],\n",
            "        [0.3273, 0.1238, 0.4831]])\n",
            "tensor([[0., 0., 0.],\n",
            "        [0., 0., 0.],\n",
            "        [0., 0., 0.]])\n"
          ]
        }
      ]
    }
  ]
}