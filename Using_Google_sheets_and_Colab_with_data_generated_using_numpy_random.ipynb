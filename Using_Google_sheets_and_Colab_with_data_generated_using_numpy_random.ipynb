{
  "nbformat": 4,
  "nbformat_minor": 0,
  "metadata": {
    "colab": {
      "provenance": [],
      "authorship_tag": "ABX9TyNX4YLi5tspJbO4v7A9oUhR",
      "include_colab_link": true
    },
    "kernelspec": {
      "name": "python3",
      "display_name": "Python 3"
    },
    "language_info": {
      "name": "python"
    }
  },
  "cells": [
    {
      "cell_type": "markdown",
      "metadata": {
        "id": "view-in-github",
        "colab_type": "text"
      },
      "source": [
        "<a href=\"https://colab.research.google.com/github/egipot/Python_simple_projects/blob/main/Using_Google_sheets_and_Colab_with_data_generated_using_numpy_random.ipynb\" target=\"_parent\"><img src=\"https://colab.research.google.com/assets/colab-badge.svg\" alt=\"Open In Colab\"/></a>"
      ]
    },
    {
      "cell_type": "markdown",
      "source": [
        "According to the updates last July 22, 2024:\n",
        "\n",
        "\n",
        "> 2024-07-22\n",
        "You can now embed Google sheets directly into Colab to streamline interactions with data with InteractiveSheet.\n",
        "\n",
        "> Example:\n",
        "\n",
        "> from google.colab import sheets\n",
        "\n",
        "> sh = sheets.InteractiveSheet()\n",
        "\n",
        "> df = sh.as_df()  \n",
        "\n",
        "\n",
        "Let's try.\n",
        "\n",
        "\n",
        "\n"
      ],
      "metadata": {
        "id": "hVnEdI3Lrvph"
      }
    },
    {
      "cell_type": "code",
      "source": [
        "#import necessary libraries\n",
        "from google.colab import sheets\n",
        "import pandas as pd\n",
        "import numpy as np\n",
        "\n",
        "# Create a new interactive sheet and add data to it.\n",
        "sheet = sheets.InteractiveSheet()"
      ],
      "metadata": {
        "colab": {
          "base_uri": "https://localhost:8080/",
          "height": 639
        },
        "id": "KppI7rHxunnB",
        "outputId": "bdb525ed-7a50-4af5-eada-552599046905"
      },
      "execution_count": 1,
      "outputs": [
        {
          "output_type": "stream",
          "name": "stdout",
          "text": [
            "https://docs.google.com/spreadsheets/d/1AEmL1kHhR_P96sWQoMcRuvlDAcDB5QLnWRNBFmhdq9c#gid=0\n"
          ]
        },
        {
          "output_type": "display_data",
          "data": {
            "text/plain": [
              "<IPython.lib.display.IFrame at 0x7e7e59849300>"
            ],
            "text/html": [
              "\n",
              "        <iframe\n",
              "            width=\"100%\"\n",
              "            height=\"600\"\n",
              "            src=\"https://docs.google.com/spreadsheets/d/1AEmL1kHhR_P96sWQoMcRuvlDAcDB5QLnWRNBFmhdq9c#gid=0/edit?rm=embedded?usp=sharing?widget=true&amp;headers=false\"\n",
              "            frameborder=\"0\"\n",
              "            allowfullscreen\n",
              "            \n",
              "        ></iframe>\n",
              "        "
            ]
          },
          "metadata": {}
        }
      ]
    },
    {
      "cell_type": "markdown",
      "source": [
        "^ As a result of the previous code, a blank worksheet will be displayed.\n",
        "This workspace is available for both manual and automatic filling of data.\n",
        "In this exercise, we will add data using random function, in the next code."
      ],
      "metadata": {
        "id": "TrIVRGTiwjKD"
      }
    },
    {
      "cell_type": "code",
      "source": [
        "# Get a Pandas DataFrame from the selected worksheet\n",
        "df = sheet.as_df()"
      ],
      "metadata": {
        "id": "YUCOXwUBvpRH"
      },
      "execution_count": 2,
      "outputs": []
    },
    {
      "cell_type": "code",
      "source": [
        "#generate random numbers to be added as data content\n",
        "df = pd.DataFrame(np.random.randn(10, 4), columns=list('ABCD'))\n",
        "\n",
        "# Create a new sheet and include the column names as the first row.\n",
        "sheet = sheets.InteractiveSheet(df=df, title='foo', include_column_headers=True)"
      ],
      "metadata": {
        "colab": {
          "base_uri": "https://localhost:8080/",
          "height": 639
        },
        "id": "rPdMmvWMv8T_",
        "outputId": "1d5a3e20-1d1b-4089-9035-e13fd4603ec4"
      },
      "execution_count": 3,
      "outputs": [
        {
          "output_type": "stream",
          "name": "stdout",
          "text": [
            "https://docs.google.com/spreadsheets/d/1FHd2GSuvF-xpSJGuvomrytZHjgqH_1CmbxtkEnxG3OI#gid=0\n"
          ]
        },
        {
          "output_type": "display_data",
          "data": {
            "text/plain": [
              "<IPython.lib.display.IFrame at 0x7e7e59848b50>"
            ],
            "text/html": [
              "\n",
              "        <iframe\n",
              "            width=\"100%\"\n",
              "            height=\"600\"\n",
              "            src=\"https://docs.google.com/spreadsheets/d/1FHd2GSuvF-xpSJGuvomrytZHjgqH_1CmbxtkEnxG3OI#gid=0/edit?rm=embedded?usp=sharing?widget=true&amp;headers=false\"\n",
              "            frameborder=\"0\"\n",
              "            allowfullscreen\n",
              "            \n",
              "        ></iframe>\n",
              "        "
            ]
          },
          "metadata": {}
        }
      ]
    },
    {
      "cell_type": "code",
      "source": [
        "# Push data from Colab to the selected worksheet\n",
        "df2 = pd.DataFrame(np.random.randn(10, 4), columns=list('ABCD'))\n",
        "sheet.update(df=df)"
      ],
      "metadata": {
        "id": "awuEk9lFwG8a"
      },
      "execution_count": 4,
      "outputs": []
    },
    {
      "cell_type": "code",
      "source": [
        "# Display the sheet in the output of the current cell\n",
        "sheet.display()"
      ],
      "metadata": {
        "colab": {
          "base_uri": "https://localhost:8080/",
          "height": 621
        },
        "id": "HerwiCztwJEk",
        "outputId": "9398726d-4909-43b1-9d46-de2b0f093819"
      },
      "execution_count": 5,
      "outputs": [
        {
          "output_type": "display_data",
          "data": {
            "text/plain": [
              "<IPython.lib.display.IFrame at 0x7e7e29ea9690>"
            ],
            "text/html": [
              "\n",
              "        <iframe\n",
              "            width=\"100%\"\n",
              "            height=\"600\"\n",
              "            src=\"https://docs.google.com/spreadsheets/d/1FHd2GSuvF-xpSJGuvomrytZHjgqH_1CmbxtkEnxG3OI#gid=0/edit?rm=embedded?usp=sharing?widget=true&amp;headers=false\"\n",
              "            frameborder=\"0\"\n",
              "            allowfullscreen\n",
              "            \n",
              "        ></iframe>\n",
              "        "
            ]
          },
          "metadata": {}
        }
      ]
    }
  ]
}